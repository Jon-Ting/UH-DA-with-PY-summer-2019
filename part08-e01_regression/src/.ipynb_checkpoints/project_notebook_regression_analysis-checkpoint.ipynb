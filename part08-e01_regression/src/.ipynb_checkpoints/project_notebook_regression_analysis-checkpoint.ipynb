{
 "cells": [
  {
   "cell_type": "markdown",
   "metadata": {},
   "source": [
    "# Linear regression"
   ]
  },
  {
   "cell_type": "markdown",
   "metadata": {},
   "source": [
    "Import all the modules you will need in this notebook here:"
   ]
  },
  {
   "cell_type": "code",
   "execution_count": 30,
   "metadata": {},
   "outputs": [],
   "source": [
    "# exercise 0\n",
    "import statsmodels\n",
    "import numpy as np\n",
    "import pandas as pd\n",
    "import matplotlib.pyplot as plt\n",
    "import statsmodels.api as sm\n",
    "import statsmodels.formula.api as smf\n",
    "from statsmodels.graphics.regressionplots import abline_plot"
   ]
  },
  {
   "cell_type": "markdown",
   "metadata": {},
   "source": [
    "We continue analysing the `fram` heart disease data.\n",
    "\n",
    "First load the data, use the name `fram` for the DataFrame variable. Make sure that in the data you loaded the column and row headers are in place. Checkout the summary of the variables using the `describe` method."
   ]
  },
  {
   "cell_type": "code",
   "execution_count": 31,
   "metadata": {},
   "outputs": [
    {
     "data": {
      "text/html": [
       "<div>\n",
       "<style scoped>\n",
       "    .dataframe tbody tr th:only-of-type {\n",
       "        vertical-align: middle;\n",
       "    }\n",
       "\n",
       "    .dataframe tbody tr th {\n",
       "        vertical-align: top;\n",
       "    }\n",
       "\n",
       "    .dataframe thead th {\n",
       "        text-align: right;\n",
       "    }\n",
       "</style>\n",
       "<table border=\"1\" class=\"dataframe\">\n",
       "  <thead>\n",
       "    <tr style=\"text-align: right;\">\n",
       "      <th></th>\n",
       "      <th>ID</th>\n",
       "      <th>AGE</th>\n",
       "      <th>FRW</th>\n",
       "      <th>SBP</th>\n",
       "      <th>SBP10</th>\n",
       "      <th>DBP</th>\n",
       "      <th>CHOL</th>\n",
       "      <th>CIG</th>\n",
       "      <th>CHD</th>\n",
       "      <th>DEATH</th>\n",
       "      <th>YRS_DTH</th>\n",
       "    </tr>\n",
       "  </thead>\n",
       "  <tbody>\n",
       "    <tr>\n",
       "      <th>count</th>\n",
       "      <td>1394.000000</td>\n",
       "      <td>1394.000000</td>\n",
       "      <td>1394.000000</td>\n",
       "      <td>1394.000000</td>\n",
       "      <td>767.000000</td>\n",
       "      <td>1394.000000</td>\n",
       "      <td>1394.000000</td>\n",
       "      <td>1394.000000</td>\n",
       "      <td>1394.000000</td>\n",
       "      <td>1394.000000</td>\n",
       "      <td>1394.000000</td>\n",
       "    </tr>\n",
       "    <tr>\n",
       "      <th>mean</th>\n",
       "      <td>4737.184362</td>\n",
       "      <td>52.431133</td>\n",
       "      <td>105.365136</td>\n",
       "      <td>148.086083</td>\n",
       "      <td>148.040417</td>\n",
       "      <td>90.135581</td>\n",
       "      <td>234.644907</td>\n",
       "      <td>8.029412</td>\n",
       "      <td>1.187948</td>\n",
       "      <td>1.700861</td>\n",
       "      <td>16.219512</td>\n",
       "    </tr>\n",
       "    <tr>\n",
       "      <th>std</th>\n",
       "      <td>1073.406896</td>\n",
       "      <td>4.781507</td>\n",
       "      <td>17.752489</td>\n",
       "      <td>28.022062</td>\n",
       "      <td>25.706664</td>\n",
       "      <td>14.226235</td>\n",
       "      <td>46.303822</td>\n",
       "      <td>11.584138</td>\n",
       "      <td>2.615976</td>\n",
       "      <td>3.203132</td>\n",
       "      <td>3.921413</td>\n",
       "    </tr>\n",
       "    <tr>\n",
       "      <th>min</th>\n",
       "      <td>1070.000000</td>\n",
       "      <td>45.000000</td>\n",
       "      <td>52.000000</td>\n",
       "      <td>90.000000</td>\n",
       "      <td>94.000000</td>\n",
       "      <td>50.000000</td>\n",
       "      <td>96.000000</td>\n",
       "      <td>0.000000</td>\n",
       "      <td>0.000000</td>\n",
       "      <td>0.000000</td>\n",
       "      <td>1.000000</td>\n",
       "    </tr>\n",
       "    <tr>\n",
       "      <th>25%</th>\n",
       "      <td>3890.250000</td>\n",
       "      <td>48.000000</td>\n",
       "      <td>94.000000</td>\n",
       "      <td>130.000000</td>\n",
       "      <td>130.000000</td>\n",
       "      <td>80.000000</td>\n",
       "      <td>200.000000</td>\n",
       "      <td>0.000000</td>\n",
       "      <td>0.000000</td>\n",
       "      <td>0.000000</td>\n",
       "      <td>18.000000</td>\n",
       "    </tr>\n",
       "    <tr>\n",
       "      <th>50%</th>\n",
       "      <td>4821.000000</td>\n",
       "      <td>52.000000</td>\n",
       "      <td>103.000000</td>\n",
       "      <td>142.000000</td>\n",
       "      <td>145.000000</td>\n",
       "      <td>90.000000</td>\n",
       "      <td>230.000000</td>\n",
       "      <td>0.000000</td>\n",
       "      <td>0.000000</td>\n",
       "      <td>0.000000</td>\n",
       "      <td>18.000000</td>\n",
       "    </tr>\n",
       "    <tr>\n",
       "      <th>75%</th>\n",
       "      <td>5641.750000</td>\n",
       "      <td>56.000000</td>\n",
       "      <td>114.000000</td>\n",
       "      <td>160.000000</td>\n",
       "      <td>160.000000</td>\n",
       "      <td>98.000000</td>\n",
       "      <td>264.000000</td>\n",
       "      <td>20.000000</td>\n",
       "      <td>0.000000</td>\n",
       "      <td>0.000000</td>\n",
       "      <td>18.000000</td>\n",
       "    </tr>\n",
       "    <tr>\n",
       "      <th>max</th>\n",
       "      <td>6442.000000</td>\n",
       "      <td>62.000000</td>\n",
       "      <td>222.000000</td>\n",
       "      <td>300.000000</td>\n",
       "      <td>264.000000</td>\n",
       "      <td>160.000000</td>\n",
       "      <td>430.000000</td>\n",
       "      <td>60.000000</td>\n",
       "      <td>10.000000</td>\n",
       "      <td>10.000000</td>\n",
       "      <td>18.000000</td>\n",
       "    </tr>\n",
       "  </tbody>\n",
       "</table>\n",
       "</div>"
      ],
      "text/plain": [
       "                ID          AGE          FRW          SBP       SBP10  \\\n",
       "count  1394.000000  1394.000000  1394.000000  1394.000000  767.000000   \n",
       "mean   4737.184362    52.431133   105.365136   148.086083  148.040417   \n",
       "std    1073.406896     4.781507    17.752489    28.022062   25.706664   \n",
       "min    1070.000000    45.000000    52.000000    90.000000   94.000000   \n",
       "25%    3890.250000    48.000000    94.000000   130.000000  130.000000   \n",
       "50%    4821.000000    52.000000   103.000000   142.000000  145.000000   \n",
       "75%    5641.750000    56.000000   114.000000   160.000000  160.000000   \n",
       "max    6442.000000    62.000000   222.000000   300.000000  264.000000   \n",
       "\n",
       "               DBP         CHOL          CIG          CHD        DEATH  \\\n",
       "count  1394.000000  1394.000000  1394.000000  1394.000000  1394.000000   \n",
       "mean     90.135581   234.644907     8.029412     1.187948     1.700861   \n",
       "std      14.226235    46.303822    11.584138     2.615976     3.203132   \n",
       "min      50.000000    96.000000     0.000000     0.000000     0.000000   \n",
       "25%      80.000000   200.000000     0.000000     0.000000     0.000000   \n",
       "50%      90.000000   230.000000     0.000000     0.000000     0.000000   \n",
       "75%      98.000000   264.000000    20.000000     0.000000     0.000000   \n",
       "max     160.000000   430.000000    60.000000    10.000000    10.000000   \n",
       "\n",
       "           YRS_DTH  \n",
       "count  1394.000000  \n",
       "mean     16.219512  \n",
       "std       3.921413  \n",
       "min       1.000000  \n",
       "25%      18.000000  \n",
       "50%      18.000000  \n",
       "75%      18.000000  \n",
       "max      18.000000  "
      ]
     },
     "execution_count": 31,
     "metadata": {},
     "output_type": "execute_result"
    }
   ],
   "source": [
    "# exercise 1\n",
    "def get_path(filename):\n",
    "    import sys\n",
    "    import os\n",
    "    prog_name = sys.argv[0]\n",
    "    if os.path.basename(prog_name) == \"__main__.py\":   # Running under TMC\n",
    "        return os.path.join(os.path.dirname(prog_name), \"..\", \"src\", filename)\n",
    "    else:\n",
    "        return filename\n",
    "    \n",
    "fram_path = get_path(\"fram.txt\")\n",
    "fram = pd.read_csv(fram_path, sep='\\t')\n",
    "fram.head(10)\n",
    "fram.describe()"
   ]
  },
  {
   "cell_type": "markdown",
   "metadata": {},
   "source": [
    "Create function `rescale` that takes a Series as parameter. It should center the data and normalize it by dividing\n",
    "by 2$\\sigma$, where $\\sigma$ is the standard deviation. Return the rescaled Series."
   ]
  },
  {
   "cell_type": "code",
   "execution_count": 32,
   "metadata": {},
   "outputs": [],
   "source": [
    "# exercise 2\n",
    "def rescale(series):\n",
    "    scaled_series = (series - series.mean()) / (2 * series.std())\n",
    "    return scaled_series\n",
    "\n",
    "# scaled_age = rescale(fram.AGE)\n",
    "# print(fram.AGE, scaled_age)"
   ]
  },
  {
   "cell_type": "markdown",
   "metadata": {},
   "source": [
    "Add to the DataFrame the scaled versions of all the continuous variables (with function `rescale`). Add small letter `s` in front of the original variable name to get the name of the scaled variable. For instance, `AGE` -> `sAGE`."
   ]
  },
  {
   "cell_type": "code",
   "execution_count": 33,
   "metadata": {},
   "outputs": [
    {
     "data": {
      "text/html": [
       "<div>\n",
       "<style scoped>\n",
       "    .dataframe tbody tr th:only-of-type {\n",
       "        vertical-align: middle;\n",
       "    }\n",
       "\n",
       "    .dataframe tbody tr th {\n",
       "        vertical-align: top;\n",
       "    }\n",
       "\n",
       "    .dataframe thead th {\n",
       "        text-align: right;\n",
       "    }\n",
       "</style>\n",
       "<table border=\"1\" class=\"dataframe\">\n",
       "  <thead>\n",
       "    <tr style=\"text-align: right;\">\n",
       "      <th></th>\n",
       "      <th>ID</th>\n",
       "      <th>SEX</th>\n",
       "      <th>AGE</th>\n",
       "      <th>FRW</th>\n",
       "      <th>SBP</th>\n",
       "      <th>SBP10</th>\n",
       "      <th>DBP</th>\n",
       "      <th>CHOL</th>\n",
       "      <th>CIG</th>\n",
       "      <th>CHD</th>\n",
       "      <th>...</th>\n",
       "      <th>DEATH</th>\n",
       "      <th>YRS_DTH</th>\n",
       "      <th>CAUSE</th>\n",
       "      <th>sAGE</th>\n",
       "      <th>sFRW</th>\n",
       "      <th>sSBP</th>\n",
       "      <th>sSBP10</th>\n",
       "      <th>sDBP</th>\n",
       "      <th>sCHOL</th>\n",
       "      <th>sCIG</th>\n",
       "    </tr>\n",
       "  </thead>\n",
       "  <tbody>\n",
       "    <tr>\n",
       "      <th>0</th>\n",
       "      <td>4988</td>\n",
       "      <td>female</td>\n",
       "      <td>57</td>\n",
       "      <td>135</td>\n",
       "      <td>186</td>\n",
       "      <td>NaN</td>\n",
       "      <td>120</td>\n",
       "      <td>150</td>\n",
       "      <td>0</td>\n",
       "      <td>1</td>\n",
       "      <td>...</td>\n",
       "      <td>7</td>\n",
       "      <td>11</td>\n",
       "      <td>unknown</td>\n",
       "      <td>0.477764</td>\n",
       "      <td>0.834668</td>\n",
       "      <td>0.676501</td>\n",
       "      <td>NaN</td>\n",
       "      <td>1.049625</td>\n",
       "      <td>-0.914016</td>\n",
       "      <td>-0.346569</td>\n",
       "    </tr>\n",
       "    <tr>\n",
       "      <th>1</th>\n",
       "      <td>3001</td>\n",
       "      <td>female</td>\n",
       "      <td>60</td>\n",
       "      <td>123</td>\n",
       "      <td>165</td>\n",
       "      <td>NaN</td>\n",
       "      <td>100</td>\n",
       "      <td>167</td>\n",
       "      <td>25</td>\n",
       "      <td>0</td>\n",
       "      <td>...</td>\n",
       "      <td>10</td>\n",
       "      <td>17</td>\n",
       "      <td>unknown</td>\n",
       "      <td>0.791473</td>\n",
       "      <td>0.496687</td>\n",
       "      <td>0.301796</td>\n",
       "      <td>NaN</td>\n",
       "      <td>0.346698</td>\n",
       "      <td>-0.730446</td>\n",
       "      <td>0.732493</td>\n",
       "    </tr>\n",
       "    <tr>\n",
       "      <th>2</th>\n",
       "      <td>5079</td>\n",
       "      <td>female</td>\n",
       "      <td>54</td>\n",
       "      <td>115</td>\n",
       "      <td>140</td>\n",
       "      <td>NaN</td>\n",
       "      <td>90</td>\n",
       "      <td>213</td>\n",
       "      <td>5</td>\n",
       "      <td>0</td>\n",
       "      <td>...</td>\n",
       "      <td>8</td>\n",
       "      <td>13</td>\n",
       "      <td>unknown</td>\n",
       "      <td>0.164056</td>\n",
       "      <td>0.271367</td>\n",
       "      <td>-0.144281</td>\n",
       "      <td>NaN</td>\n",
       "      <td>-0.004765</td>\n",
       "      <td>-0.233727</td>\n",
       "      <td>-0.130757</td>\n",
       "    </tr>\n",
       "    <tr>\n",
       "      <th>3</th>\n",
       "      <td>5162</td>\n",
       "      <td>female</td>\n",
       "      <td>52</td>\n",
       "      <td>102</td>\n",
       "      <td>170</td>\n",
       "      <td>NaN</td>\n",
       "      <td>104</td>\n",
       "      <td>280</td>\n",
       "      <td>15</td>\n",
       "      <td>0</td>\n",
       "      <td>...</td>\n",
       "      <td>7</td>\n",
       "      <td>11</td>\n",
       "      <td>unknown</td>\n",
       "      <td>-0.045083</td>\n",
       "      <td>-0.094779</td>\n",
       "      <td>0.391012</td>\n",
       "      <td>NaN</td>\n",
       "      <td>0.487283</td>\n",
       "      <td>0.489755</td>\n",
       "      <td>0.300868</td>\n",
       "    </tr>\n",
       "    <tr>\n",
       "      <th>4</th>\n",
       "      <td>4672</td>\n",
       "      <td>female</td>\n",
       "      <td>45</td>\n",
       "      <td>99</td>\n",
       "      <td>185</td>\n",
       "      <td>NaN</td>\n",
       "      <td>105</td>\n",
       "      <td>326</td>\n",
       "      <td>20</td>\n",
       "      <td>0</td>\n",
       "      <td>...</td>\n",
       "      <td>10</td>\n",
       "      <td>17</td>\n",
       "      <td>unknown</td>\n",
       "      <td>-0.777070</td>\n",
       "      <td>-0.179274</td>\n",
       "      <td>0.658658</td>\n",
       "      <td>NaN</td>\n",
       "      <td>0.522430</td>\n",
       "      <td>0.986475</td>\n",
       "      <td>0.516680</td>\n",
       "    </tr>\n",
       "    <tr>\n",
       "      <th>5</th>\n",
       "      <td>5822</td>\n",
       "      <td>female</td>\n",
       "      <td>51</td>\n",
       "      <td>93</td>\n",
       "      <td>142</td>\n",
       "      <td>NaN</td>\n",
       "      <td>90</td>\n",
       "      <td>234</td>\n",
       "      <td>35</td>\n",
       "      <td>0</td>\n",
       "      <td>...</td>\n",
       "      <td>8</td>\n",
       "      <td>13</td>\n",
       "      <td>unknown</td>\n",
       "      <td>-0.149653</td>\n",
       "      <td>-0.348265</td>\n",
       "      <td>-0.108594</td>\n",
       "      <td>NaN</td>\n",
       "      <td>-0.004765</td>\n",
       "      <td>-0.006964</td>\n",
       "      <td>1.164117</td>\n",
       "    </tr>\n",
       "    <tr>\n",
       "      <th>6</th>\n",
       "      <td>6056</td>\n",
       "      <td>female</td>\n",
       "      <td>55</td>\n",
       "      <td>93</td>\n",
       "      <td>135</td>\n",
       "      <td>NaN</td>\n",
       "      <td>85</td>\n",
       "      <td>292</td>\n",
       "      <td>5</td>\n",
       "      <td>0</td>\n",
       "      <td>...</td>\n",
       "      <td>5</td>\n",
       "      <td>7</td>\n",
       "      <td>unknown</td>\n",
       "      <td>0.268625</td>\n",
       "      <td>-0.348265</td>\n",
       "      <td>-0.233496</td>\n",
       "      <td>NaN</td>\n",
       "      <td>-0.180497</td>\n",
       "      <td>0.619334</td>\n",
       "      <td>-0.130757</td>\n",
       "    </tr>\n",
       "    <tr>\n",
       "      <th>7</th>\n",
       "      <td>6372</td>\n",
       "      <td>female</td>\n",
       "      <td>62</td>\n",
       "      <td>72</td>\n",
       "      <td>194</td>\n",
       "      <td>NaN</td>\n",
       "      <td>140</td>\n",
       "      <td>199</td>\n",
       "      <td>0</td>\n",
       "      <td>0</td>\n",
       "      <td>...</td>\n",
       "      <td>10</td>\n",
       "      <td>17</td>\n",
       "      <td>unknown</td>\n",
       "      <td>1.000612</td>\n",
       "      <td>-0.939731</td>\n",
       "      <td>0.819246</td>\n",
       "      <td>NaN</td>\n",
       "      <td>1.752551</td>\n",
       "      <td>-0.384902</td>\n",
       "      <td>-0.346569</td>\n",
       "    </tr>\n",
       "    <tr>\n",
       "      <th>8</th>\n",
       "      <td>5880</td>\n",
       "      <td>female</td>\n",
       "      <td>47</td>\n",
       "      <td>222</td>\n",
       "      <td>208</td>\n",
       "      <td>199.0</td>\n",
       "      <td>120</td>\n",
       "      <td>170</td>\n",
       "      <td>0</td>\n",
       "      <td>9</td>\n",
       "      <td>...</td>\n",
       "      <td>0</td>\n",
       "      <td>18</td>\n",
       "      <td>alive</td>\n",
       "      <td>-0.567931</td>\n",
       "      <td>3.285029</td>\n",
       "      <td>1.069049</td>\n",
       "      <td>0.991175</td>\n",
       "      <td>1.049625</td>\n",
       "      <td>-0.698052</td>\n",
       "      <td>-0.346569</td>\n",
       "    </tr>\n",
       "    <tr>\n",
       "      <th>9</th>\n",
       "      <td>3468</td>\n",
       "      <td>female</td>\n",
       "      <td>53</td>\n",
       "      <td>204</td>\n",
       "      <td>246</td>\n",
       "      <td>NaN</td>\n",
       "      <td>130</td>\n",
       "      <td>166</td>\n",
       "      <td>0</td>\n",
       "      <td>0</td>\n",
       "      <td>...</td>\n",
       "      <td>0</td>\n",
       "      <td>18</td>\n",
       "      <td>alive</td>\n",
       "      <td>0.059486</td>\n",
       "      <td>2.778057</td>\n",
       "      <td>1.747086</td>\n",
       "      <td>NaN</td>\n",
       "      <td>1.401088</td>\n",
       "      <td>-0.741244</td>\n",
       "      <td>-0.346569</td>\n",
       "    </tr>\n",
       "  </tbody>\n",
       "</table>\n",
       "<p>10 rows × 21 columns</p>\n",
       "</div>"
      ],
      "text/plain": [
       "     ID     SEX  AGE  FRW  SBP  SBP10  DBP  CHOL  CIG  CHD  ... DEATH  \\\n",
       "0  4988  female   57  135  186    NaN  120   150    0    1  ...     7   \n",
       "1  3001  female   60  123  165    NaN  100   167   25    0  ...    10   \n",
       "2  5079  female   54  115  140    NaN   90   213    5    0  ...     8   \n",
       "3  5162  female   52  102  170    NaN  104   280   15    0  ...     7   \n",
       "4  4672  female   45   99  185    NaN  105   326   20    0  ...    10   \n",
       "5  5822  female   51   93  142    NaN   90   234   35    0  ...     8   \n",
       "6  6056  female   55   93  135    NaN   85   292    5    0  ...     5   \n",
       "7  6372  female   62   72  194    NaN  140   199    0    0  ...    10   \n",
       "8  5880  female   47  222  208  199.0  120   170    0    9  ...     0   \n",
       "9  3468  female   53  204  246    NaN  130   166    0    0  ...     0   \n",
       "\n",
       "   YRS_DTH    CAUSE      sAGE      sFRW      sSBP    sSBP10      sDBP  \\\n",
       "0       11  unknown  0.477764  0.834668  0.676501       NaN  1.049625   \n",
       "1       17  unknown  0.791473  0.496687  0.301796       NaN  0.346698   \n",
       "2       13  unknown  0.164056  0.271367 -0.144281       NaN -0.004765   \n",
       "3       11  unknown -0.045083 -0.094779  0.391012       NaN  0.487283   \n",
       "4       17  unknown -0.777070 -0.179274  0.658658       NaN  0.522430   \n",
       "5       13  unknown -0.149653 -0.348265 -0.108594       NaN -0.004765   \n",
       "6        7  unknown  0.268625 -0.348265 -0.233496       NaN -0.180497   \n",
       "7       17  unknown  1.000612 -0.939731  0.819246       NaN  1.752551   \n",
       "8       18    alive -0.567931  3.285029  1.069049  0.991175  1.049625   \n",
       "9       18    alive  0.059486  2.778057  1.747086       NaN  1.401088   \n",
       "\n",
       "      sCHOL      sCIG  \n",
       "0 -0.914016 -0.346569  \n",
       "1 -0.730446  0.732493  \n",
       "2 -0.233727 -0.130757  \n",
       "3  0.489755  0.300868  \n",
       "4  0.986475  0.516680  \n",
       "5 -0.006964  1.164117  \n",
       "6  0.619334 -0.130757  \n",
       "7 -0.384902 -0.346569  \n",
       "8 -0.698052 -0.346569  \n",
       "9 -0.741244 -0.346569  \n",
       "\n",
       "[10 rows x 21 columns]"
      ]
     },
     "execution_count": 33,
     "metadata": {},
     "output_type": "execute_result"
    }
   ],
   "source": [
    "# exercise 3\n",
    "con_var_list = [\"AGE\", \"FRW\", \"SBP\", \"SBP10\", \"DBP\", \"CHOL\", \"CIG\"]\n",
    "for i, var in enumerate(con_var_list):\n",
    "    heading = \"s\" + var\n",
    "    fram[heading] = rescale(fram[var])\n",
    "fram.head(10)"
   ]
  },
  {
   "cell_type": "markdown",
   "metadata": {},
   "source": [
    "Form a model that predicts systolic blood pressure using weight, gender, and cholesterol level as explanatory variables. Store the fitted model in variable named `fit`."
   ]
  },
  {
   "cell_type": "code",
   "execution_count": 34,
   "metadata": {},
   "outputs": [
    {
     "name": "stdout",
     "output_type": "stream",
     "text": [
      "                            OLS Regression Results                            \n",
      "==============================================================================\n",
      "Dep. Variable:                    SBP   R-squared:                       0.125\n",
      "Model:                            OLS   Adj. R-squared:                  0.123\n",
      "Method:                 Least Squares   F-statistic:                     66.37\n",
      "Date:                Wed, 19 Feb 2020   Prob (F-statistic):           4.13e-40\n",
      "Time:                        01:59:32   Log-Likelihood:                -6530.4\n",
      "No. Observations:                1394   AIC:                         1.307e+04\n",
      "Df Residuals:                    1390   BIC:                         1.309e+04\n",
      "Df Model:                           3                                         \n",
      "Covariance Type:            nonrobust                                         \n",
      "===============================================================================\n",
      "                  coef    std err          t      P>|t|      [0.025      0.975]\n",
      "-------------------------------------------------------------------------------\n",
      "Intercept     150.0199      0.985    152.336      0.000     148.088     151.952\n",
      "SEX[T.male]    -4.0659      1.451     -2.803      0.005      -6.912      -1.220\n",
      "sFRW           17.7205      1.426     12.431      0.000      14.924      20.517\n",
      "sCHOL           4.9169      1.431      3.436      0.001       2.110       7.724\n",
      "==============================================================================\n",
      "Omnibus:                      327.612   Durbin-Watson:                   1.774\n",
      "Prob(Omnibus):                  0.000   Jarque-Bera (JB):              843.676\n",
      "Skew:                           1.237   Prob(JB):                    6.28e-184\n",
      "Kurtosis:                       5.899   Cond. No.                         2.79\n",
      "==============================================================================\n",
      "\n",
      "Warnings:\n",
      "[1] Standard Errors assume that the covariance matrix of the errors is correctly specified.\n"
     ]
    }
   ],
   "source": [
    "# exercise 4\n",
    "fit = smf.ols(\"SBP ~ sFRW + SEX + sCHOL\", data=fram).fit()\n",
    "print(fit.summary())"
   ]
  },
  {
   "cell_type": "markdown",
   "metadata": {},
   "source": [
    "Add the variable AGE to the model and inspect the estimates of the coefficients using the `summary` method of the fitted model. Again use the name `fit` for the fitted model. (From now on assume that we always use the name `fit` for the variable of the fitted model.)"
   ]
  },
  {
   "cell_type": "code",
   "execution_count": 35,
   "metadata": {},
   "outputs": [
    {
     "name": "stdout",
     "output_type": "stream",
     "text": [
      "                            OLS Regression Results                            \n",
      "==============================================================================\n",
      "Dep. Variable:                    SBP   R-squared:                       0.146\n",
      "Model:                            OLS   Adj. R-squared:                  0.144\n",
      "Method:                 Least Squares   F-statistic:                     59.39\n",
      "Date:                Wed, 19 Feb 2020   Prob (F-statistic):           2.44e-46\n",
      "Time:                        01:59:32   Log-Likelihood:                -6513.6\n",
      "No. Observations:                1394   AIC:                         1.304e+04\n",
      "Df Residuals:                    1389   BIC:                         1.306e+04\n",
      "Df Model:                           4                                         \n",
      "Covariance Type:            nonrobust                                         \n",
      "===============================================================================\n",
      "                  coef    std err          t      P>|t|      [0.025      0.975]\n",
      "-------------------------------------------------------------------------------\n",
      "Intercept     150.1695      0.974    154.221      0.000     148.259     152.080\n",
      "SEX[T.male]    -4.3805      1.435     -3.053      0.002      -7.195      -1.566\n",
      "sFRW           16.9771      1.415     11.999      0.000      14.202      19.753\n",
      "sCHOL           4.2696      1.419      3.009      0.003       1.486       7.053\n",
      "sAGE            8.1332      1.400      5.810      0.000       5.387      10.879\n",
      "==============================================================================\n",
      "Omnibus:                      321.087   Durbin-Watson:                   1.807\n",
      "Prob(Omnibus):                  0.000   Jarque-Bera (JB):              840.955\n",
      "Skew:                           1.206   Prob(JB):                    2.45e-183\n",
      "Kurtosis:                       5.944   Cond. No.                         2.82\n",
      "==============================================================================\n",
      "\n",
      "Warnings:\n",
      "[1] Standard Errors assume that the covariance matrix of the errors is correctly specified.\n"
     ]
    }
   ],
   "source": [
    "# exercise 5\n",
    "fit = smf.ols(\"SBP ~ sFRW + SEX + sCHOL + sAGE\", data=fram).fit()\n",
    "print(fit.summary())"
   ]
  },
  {
   "cell_type": "markdown",
   "metadata": {},
   "source": [
    "How much does the inclusion of age increase the explanatory power of the model? Which variables explain the variance of the target variable most?\n",
    "\n",
    "***\n",
    "\n",
    "The *R*-squared value of the latter model is higher than the former. The inclusion of the variable AGE reduced the probability of obtaining the statistics given the null hypothesis (that they are unrelated) by six orders of magnitude, meaning it greatly increased the explanatory power of the model. The weight in relation to groups median (FRW) explains the variance of systolic blood pressure (SBP) the most.\n",
    "\n",
    "***"
   ]
  },
  {
   "cell_type": "markdown",
   "metadata": {},
   "source": [
    "Try to add to the model all the interactions with other variables. "
   ]
  },
  {
   "cell_type": "code",
   "execution_count": 36,
   "metadata": {},
   "outputs": [
    {
     "name": "stdout",
     "output_type": "stream",
     "text": [
      "                            OLS Regression Results                            \n",
      "==============================================================================\n",
      "Dep. Variable:                    SBP   R-squared:                       0.151\n",
      "Model:                            OLS   Adj. R-squared:                  0.144\n",
      "Method:                 Least Squares   F-statistic:                     24.52\n",
      "Date:                Wed, 19 Feb 2020   Prob (F-statistic):           4.92e-43\n",
      "Time:                        01:59:32   Log-Likelihood:                -6509.9\n",
      "No. Observations:                1394   AIC:                         1.304e+04\n",
      "Df Residuals:                    1383   BIC:                         1.310e+04\n",
      "Df Model:                          10                                         \n",
      "Covariance Type:            nonrobust                                         \n",
      "=====================================================================================\n",
      "                        coef    std err          t      P>|t|      [0.025      0.975]\n",
      "-------------------------------------------------------------------------------------\n",
      "Intercept           150.5439      1.001    150.355      0.000     148.580     152.508\n",
      "SEX[T.male]          -4.7309      1.451     -3.261      0.001      -7.577      -1.885\n",
      "sFRW                 16.6450      1.723      9.660      0.000      13.265      20.025\n",
      "sFRW:SEX[T.male]      1.6673      3.088      0.540      0.589      -4.390       7.725\n",
      "sCHOL                 3.6181      1.878      1.926      0.054      -0.066       7.302\n",
      "sCHOL:SEX[T.male]     1.0231      2.933      0.349      0.727      -4.730       6.776\n",
      "sCHOL:sFRW            4.9729      2.718      1.829      0.068      -0.359      10.305\n",
      "sAGE                 10.2189      2.003      5.101      0.000       6.289      14.149\n",
      "sAGE:SEX[T.male]     -4.2923      2.886     -1.488      0.137      -9.953       1.368\n",
      "sAGE:sFRW            -2.0866      2.803     -0.744      0.457      -7.585       3.412\n",
      "sAGE:sCHOL           -4.7564      3.044     -1.563      0.118     -10.728       1.215\n",
      "==============================================================================\n",
      "Omnibus:                      313.112   Durbin-Watson:                   1.798\n",
      "Prob(Omnibus):                  0.000   Jarque-Bera (JB):              802.290\n",
      "Skew:                           1.185   Prob(JB):                    6.10e-175\n",
      "Kurtosis:                       5.863   Cond. No.                         6.02\n",
      "==============================================================================\n",
      "\n",
      "Warnings:\n",
      "[1] Standard Errors assume that the covariance matrix of the errors is correctly specified.\n"
     ]
    }
   ],
   "source": [
    "# exercise 6\n",
    "fit = smf.ols(\"SBP ~ sFRW + SEX + sFRW:SEX + sCHOL + sCHOL:sFRW + sCHOL:SEX + sAGE + sAGE:sFRW + sAGE:SEX + sAGE:sCHOL\", data=fram).fit()\n",
    "print(fit.summary())"
   ]
  },
  {
   "cell_type": "markdown",
   "metadata": {},
   "source": [
    "Then visualize the model as the function of weight for the youngest (sAGE=-1.0), middle aged (sAGE=0.0), and oldest (sAGE=1.0) women while assuming the background variables to be centered. Remember to consider the changes in the intercept and in the regression coefficient caused by age. Visualize both the data points and the fitted lines."
   ]
  },
  {
   "cell_type": "code",
   "execution_count": 37,
   "metadata": {},
   "outputs": [
    {
     "data": {
      "image/png": "[encoded data removed]",
      "text/plain": [
       "<Figure size 432x288 with 1 Axes>"
      ]
     },
     "metadata": {
      "needs_background": "light"
     },
     "output_type": "display_data"
    }
   ],
   "source": [
    "# exercise 7\n",
    "p=fit.params\n",
    "fram[fram.SEX==\"female\"].plot.scatter(\"sFRW\", \"SBP\")\n",
    "abline_plot(intercept=p.Intercept - p[\"sAGE\"], slope=p.sFRW - p[\"sAGE:sFRW\"], ax=plt.gca(), color=\"blue\", label=\"young\")\n",
    "abline_plot(intercept=p.Intercept, slope=p.sFRW, ax=plt.gca(), color=\"magenta\", label=\"middle\")\n",
    "abline_plot(intercept=p.Intercept + p[\"sAGE\"], slope=p.sFRW + p[\"sAGE:sFRW\"], ax=plt.gca(), color=\"red\", label=\"old\")\n",
    "plt.legend();"
   ]
  },
  {
   "cell_type": "markdown",
   "metadata": {},
   "source": [
    "How does the dependence of blood pressure on weight change as a person gets older?\n",
    "***\n",
    "\n",
    "As a person ages, the influence of his/her weight on his/her blood pressure gets weaker as seen from the lines fitted in the previous plot. The magnitude of the gradient decreases as the age increases. This effect is seen more prominently among women.\n",
    "\n",
    "***"
   ]
  },
  {
   "cell_type": "markdown",
   "metadata": {},
   "source": [
    "### Even more accurate model\n",
    "\n",
    "Include the background variable `sCIG` from the data and its interactions. Visualize the model for systolic blood pressure as the function of the most important explanatory variable. Visualize separate lines for the small (-1.0), average (0.0), and large (1.0) values of `sCHOL`. Other variables can be assumed to be at their mean value."
   ]
  },
  {
   "cell_type": "code",
   "execution_count": 38,
   "metadata": {},
   "outputs": [
    {
     "name": "stdout",
     "output_type": "stream",
     "text": [
      "                            OLS Regression Results                            \n",
      "==============================================================================\n",
      "Dep. Variable:                    SBP   R-squared:                       0.152\n",
      "Model:                            OLS   Adj. R-squared:                  0.143\n",
      "Method:                 Least Squares   F-statistic:                     16.50\n",
      "Date:                Wed, 19 Feb 2020   Prob (F-statistic):           2.99e-40\n",
      "Time:                        01:59:33   Log-Likelihood:                -6508.6\n",
      "No. Observations:                1394   AIC:                         1.305e+04\n",
      "Df Residuals:                    1378   BIC:                         1.313e+04\n",
      "Df Model:                          15                                         \n",
      "Covariance Type:            nonrobust                                         \n",
      "=====================================================================================\n",
      "                        coef    std err          t      P>|t|      [0.025      0.975]\n",
      "-------------------------------------------------------------------------------------\n",
      "Intercept           151.3182      1.160    130.456      0.000     149.043     153.594\n",
      "SEX[T.male]          -5.3834      1.598     -3.368      0.001      -8.519      -2.248\n",
      "sFRW                 17.6415      1.866      9.455      0.000      13.981      21.302\n",
      "sFRW:SEX[T.male]     -0.1140      3.441     -0.033      0.974      -6.865       6.637\n",
      "sCHOL                 3.2957      1.965      1.677      0.094      -0.559       7.151\n",
      "sCHOL:SEX[T.male]     1.4369      3.142      0.457      0.648      -4.727       7.600\n",
      "sCHOL:sFRW            4.8912      2.735      1.788      0.074      -0.475      10.257\n",
      "sAGE                 10.3615      2.119      4.890      0.000       6.205      14.518\n",
      "sAGE:SEX[T.male]     -4.4248      3.179     -1.392      0.164     -10.661       1.811\n",
      "sAGE:sFRW            -1.8501      2.848     -0.650      0.516      -7.437       3.737\n",
      "sAGE:sCHOL           -4.8509      3.091     -1.569      0.117     -10.914       1.212\n",
      "sCIG                  3.7733      3.106      1.215      0.225      -2.319       9.865\n",
      "sCIG:SEX[T.male]     -3.9094      3.599     -1.086      0.278     -10.970       3.151\n",
      "sCIG:sFRW             3.6765      3.373      1.090      0.276      -2.941      10.294\n",
      "sCIG:sCHOL           -1.6344      3.368     -0.485      0.628      -8.242       4.973\n",
      "sCIG:sAGE            -0.3247      3.143     -0.103      0.918      -6.490       5.840\n",
      "==============================================================================\n",
      "Omnibus:                      303.518   Durbin-Watson:                   1.802\n",
      "Prob(Omnibus):                  0.000   Jarque-Bera (JB):              750.095\n",
      "Skew:                           1.164   Prob(JB):                    1.32e-163\n",
      "Kurtosis:                       5.738   Cond. No.                         7.93\n",
      "==============================================================================\n",
      "\n",
      "Warnings:\n",
      "[1] Standard Errors assume that the covariance matrix of the errors is correctly specified.\n"
     ]
    },
    {
     "data": {
      "image/png": "[encoded data removed]",
      "text/plain": [
       "<Figure size 432x288 with 1 Axes>"
      ]
     },
     "metadata": {
      "needs_background": "light"
     },
     "output_type": "display_data"
    }
   ],
   "source": [
    "# exercise 8\n",
    "fit = smf.ols(\"SBP ~ sFRW + SEX + sFRW:SEX + sCHOL + sCHOL:sFRW + sCHOL:SEX + sAGE + sAGE:sFRW + sAGE:SEX + sAGE:sCHOL + sCIG + sCIG:sFRW + sCIG:SEX + sCIG:sCHOL + sCIG:sAGE\", data=fram).fit()\n",
    "print(fit.summary())\n",
    "p=fit.params\n",
    "fram.plot.scatter(\"sFRW\", \"SBP\")\n",
    "abline_plot(intercept=p.Intercept - p[\"sCHOL\"], slope=p.sFRW - p[\"sCHOL:sFRW\"], ax=plt.gca(), color=\"blue\", label=\"young\")\n",
    "abline_plot(intercept=p.Intercept, slope=p.sFRW, ax=plt.gca(), color=\"magenta\", label=\"middle\")\n",
    "abline_plot(intercept=p.Intercept + p[\"sCHOL\"], slope=p.sFRW + p[\"sCHOL:sFRW\"], ax=plt.gca(), color=\"red\", label=\"old\")\n",
    "plt.legend();"
   ]
  },
  {
   "cell_type": "markdown",
   "metadata": {},
   "source": [
    "How does the model and its accuracy look?\n",
    "\n",
    "***\n",
    "\n",
    "The *R*-squared value is more or less the same compared to the previous model. However, the probability of observing the same statistics given the null hypothesis holds has increased. This suggests that the model has become less accurate.\n",
    "\n",
    "***"
   ]
  },
  {
   "cell_type": "markdown",
   "metadata": {},
   "source": [
    "# Logistic regression"
   ]
  },
  {
   "cell_type": "code",
   "execution_count": 39,
   "metadata": {},
   "outputs": [],
   "source": [
    "def logistic(x):\n",
    "    return 1.0 / (1.0 + np.exp(-x))"
   ]
  },
  {
   "cell_type": "markdown",
   "metadata": {},
   "source": [
    "We will continue predicting high blood pressure by taking in some continuous background variables, such as the age."
   ]
  },
  {
   "cell_type": "markdown",
   "metadata": {},
   "source": [
    "Recreate the model `HIGH_BP ~ sFRW + SEX + SEX:sFRW` presented in the introduction. Make sure, that you get the same results. Use name `fit` for the fitted model. Compute and store the error rate into variable `error_rate_orig`."
   ]
  },
  {
   "cell_type": "code",
   "execution_count": 40,
   "metadata": {},
   "outputs": [
    {
     "name": "stdout",
     "output_type": "stream",
     "text": [
      "                 Generalized Linear Model Regression Results                  \n",
      "==============================================================================\n",
      "Dep. Variable:                HIGH_BP   No. Observations:                 1394\n",
      "Model:                            GLM   Df Residuals:                     1390\n",
      "Model Family:                Binomial   Df Model:                            3\n",
      "Link Function:                  logit   Scale:                          1.0000\n",
      "Method:                          IRLS   Log-Likelihood:                -856.87\n",
      "Date:                Wed, 19 Feb 2020   Deviance:                       1713.7\n",
      "Time:                        01:59:33   Pearson chi2:                 1.39e+03\n",
      "No. Iterations:                     4                                         \n",
      "Covariance Type:            nonrobust                                         \n",
      "====================================================================================\n",
      "                       coef    std err          z      P>|z|      [0.025      0.975]\n",
      "------------------------------------------------------------------------------------\n",
      "Intercept            0.7631      0.082      9.266      0.000       0.602       0.925\n",
      "SEX[T.male]         -0.1624      0.120     -1.350      0.177      -0.398       0.073\n",
      "sFRW                 1.0738      0.176      6.095      0.000       0.728       1.419\n",
      "SEX[T.male]:sFRW     0.2709      0.287      0.943      0.346      -0.292       0.834\n",
      "====================================================================================\n",
      "0.35581061692969873\n"
     ]
    },
    {
     "name": "stderr",
     "output_type": "stream",
     "text": [
      "/home/jonting/.local/lib/python3.6/site-packages/ipykernel_launcher.py:8: DeprecationWarning: Calling Family(..) with a link class as argument is deprecated.\n",
      "Use an instance of a link class instead.\n",
      "  \n"
     ]
    }
   ],
   "source": [
    "# exercise 9\n",
    "fram[\"HIGH_BP\"] = (fram.SBP >= 140) | (fram.DBP >= 90)\n",
    "# print(fram.HIGH_BP.head(), \"\\n\")\n",
    "# print(fram.HIGH_BP.value_counts(), \"\\n\")\n",
    "fram.HIGH_BP = fram.HIGH_BP.map(int)  # Turn into 0 and 1 instead of Booleans\n",
    "# print(fram.HIGH_BP.mean(), \"\\n\")\n",
    "# print(fram.head(), \"\\n\")\n",
    "fit = smf.glm(formula=\"HIGH_BP ~ sFRW + SEX + SEX:sFRW\", data=fram, family=sm.families.Binomial(statsmodels.genmod.families.links.logit)).fit()\n",
    "print(fit.summary())\n",
    "error_rate_orig = np.mean(((fit.fittedvalues < 0.5) & fram.HIGH_BP) | ((fit.fittedvalues > 0.5) & ~fram.HIGH_BP))\n",
    "print(error_rate_orig)"
   ]
  },
  {
   "cell_type": "markdown",
   "metadata": {},
   "source": [
    "Add the `sAGE` variable and its interactions. Check the prediction accuracy of the model and compare it to the previous model. Store the prediction accuracy to variable `error_rate`."
   ]
  },
  {
   "cell_type": "code",
   "execution_count": 41,
   "metadata": {},
   "outputs": [
    {
     "name": "stdout",
     "output_type": "stream",
     "text": [
      "                 Generalized Linear Model Regression Results                  \n",
      "==============================================================================\n",
      "Dep. Variable:                HIGH_BP   No. Observations:                 1394\n",
      "Model:                            GLM   Df Residuals:                     1387\n",
      "Model Family:                Binomial   Df Model:                            6\n",
      "Link Function:                  logit   Scale:                          1.0000\n",
      "Method:                          IRLS   Log-Likelihood:                -845.51\n",
      "Date:                Wed, 19 Feb 2020   Deviance:                       1691.0\n",
      "Time:                        01:59:33   Pearson chi2:                 1.39e+03\n",
      "No. Iterations:                     4                                         \n",
      "Covariance Type:            nonrobust                                         \n",
      "====================================================================================\n",
      "                       coef    std err          z      P>|z|      [0.025      0.975]\n",
      "------------------------------------------------------------------------------------\n",
      "Intercept            0.8079      0.084      9.569      0.000       0.642       0.973\n",
      "SEX[T.male]         -0.1983      0.121     -1.632      0.103      -0.436       0.040\n",
      "sFRW                 1.0196      0.180      5.670      0.000       0.667       1.372\n",
      "SEX[T.male]:sFRW     0.3754      0.289      1.297      0.195      -0.192       0.943\n",
      "sAGE                 0.6008      0.173      3.466      0.001       0.261       0.941\n",
      "sAGE:SEX[T.male]    -0.5727      0.239     -2.392      0.017      -1.042      -0.103\n",
      "sAGE:sFRW           -0.7588      0.276     -2.750      0.006      -1.300      -0.218\n",
      "====================================================================================\n",
      "0.3278335724533716\n"
     ]
    },
    {
     "name": "stderr",
     "output_type": "stream",
     "text": [
      "/home/jonting/.local/lib/python3.6/site-packages/ipykernel_launcher.py:2: DeprecationWarning: Calling Family(..) with a link class as argument is deprecated.\n",
      "Use an instance of a link class instead.\n",
      "  \n"
     ]
    }
   ],
   "source": [
    "# exercise 10\n",
    "fit = smf.glm(formula=\"HIGH_BP ~ sFRW + SEX + SEX:sFRW + sAGE + sAGE:sFRW + sAGE:SEX\", data=fram, family=sm.families.Binomial(statsmodels.genmod.families.links.logit)).fit()\n",
    "print(fit.summary())\n",
    "error_rate = np.mean(((fit.fittedvalues < 0.5) & fram.HIGH_BP) | ((fit.fittedvalues > 0.5) & ~fram.HIGH_BP))\n",
    "print(error_rate)"
   ]
  },
  {
   "cell_type": "markdown",
   "metadata": {},
   "source": [
    "Visualize the predicted probability of high blood pressure as the function of weight. Remember to use normalized values (`rescale`) also for those variables that are not included in the visualization, so that sensible values are used for them (data average). Draw two figures with altogether six curves: young, middle aged, and old women; and young, middle aged, and old men. Use `plt.subplots`. (Plotting works in similar fashion as in the introduction. The argument factors need, however, be changed as in the example about visualisation of continuous variable.) "
   ]
  },
  {
   "cell_type": "code",
   "execution_count": 42,
   "metadata": {},
   "outputs": [
    {
     "data": {
      "text/plain": [
       "Text(0.5, 1.0, 'Female')"
      ]
     },
     "execution_count": 42,
     "metadata": {},
     "output_type": "execute_result"
    },
    {
     "data": {
      "image/png": "[encoded data removed]",
      "text/plain": [
       "<Figure size 1008x288 with 2 Axes>"
      ]
     },
     "metadata": {
      "needs_background": "light"
     },
     "output_type": "display_data"
    }
   ],
   "source": [
    "# exercise 11\n",
    "\n",
    "def logistic(x):\n",
    "    return 1.0 / (1.0 + np.exp(-x))\n",
    "\n",
    "fig, ax = plt.subplots(1, 2, subplot_kw={\"xlabel\": \"Weight\", \"ylabel\": \"Pr(Has high BP)\"}, figsize=(14, 4))\n",
    "p = fit.params\n",
    "\n",
    "X = np.linspace(-1.5, 2, 100)\n",
    "ax[0].scatter(fram[fram.SEX==\"male\"].sFRW, fram[fram.SEX==\"male\"].HIGH_BP, marker=\"d\")\n",
    "ax[0].plot(X, logistic(X*(p.sFRW + p[\"sAGE:sFRW\"]) + p.sAGE + p.Intercept), color=\"red\", label=\"young\")\n",
    "ax[0].plot(X, logistic(X*p.sFRW + p.sAGE + p.Intercept), color=\"blue\", label=\"middle\")\n",
    "ax[0].plot(X, logistic(X*(p.sFRW - p[\"sAGE:sFRW\"]) - p.sAGE + p.Intercept), color=\"magenta\", label=\"old\")\n",
    "ax[0].legend();\n",
    "ax[0].set_title(\"Male\")\n",
    "\n",
    "X = np.linspace(-2, 3.5, 100)\n",
    "ax[1].scatter(fram[fram.SEX==\"female\"].sFRW, fram[fram.SEX==\"female\"].HIGH_BP, marker=\"d\")\n",
    "ax[1].plot(X, logistic(X*(p.sFRW + p[\"sAGE:sFRW\"]) + p.sAGE + p.Intercept), color=\"red\", label=\"young\")\n",
    "ax[1].plot(X, logistic(X*p.sFRW + p.sAGE + p.Intercept), color=\"blue\", label=\"middle\")\n",
    "ax[1].plot(X, logistic(X*(p.sFRW - p[\"sAGE:sFRW\"]) - p.sAGE + p.Intercept), color=\"magenta\", label=\"old\")\n",
    "ax[1].legend();\n",
    "ax[1].set_title(\"Female\")"
   ]
  },
  {
   "cell_type": "markdown",
   "metadata": {},
   "source": [
    "How do the models with different ages and genders differ from each other?\n",
    "\n",
    "***\n",
    "The data of the male model seems to be more centered compared to the female. The distribution of the female data is right-skewed. The rates of change in the probabiliy are uniformly larger in the female model. Within each model of the same gender, the older persons have the greatest rate of change in the probability of having high blood pressure, followed by the middle-age persons and then the youngest.\n",
    "***"
   ]
  },
  {
   "cell_type": "markdown",
   "metadata": {},
   "source": [
    "Create here a helper function `train_test_split` that gets a DataFrame as parameter and return a pair of DataFrames: one for training and the second for testing. \n",
    "The function should get parameters in the following way:\n",
    "```python\n",
    "train_test_split(df, train_fraction=0.8)\n",
    "```\n",
    "The data should be split randomly to training and testing DataFrames so that `train_fraction` fraction of data should go into the training set. Use the `sample` method of the DataFrame."
   ]
  },
  {
   "cell_type": "code",
   "execution_count": 43,
   "metadata": {},
   "outputs": [],
   "source": [
    "# exercise 12\n",
    "def train_test_split(df, train_fraction=0.8):\n",
    "    train_df = df.sample(frac=train_fraction)\n",
    "    test_df = pd.concat([df, train_df, train_df]).drop_duplicates(keep=False)\n",
    "    return train_df, test_df"
   ]
  },
  {
   "cell_type": "markdown",
   "metadata": {},
   "source": [
    "Check the prediction accuracy of your model using cross validation. Use 100-fold cross validation and training_fraction 0.8."
   ]
  },
  {
   "cell_type": "code",
   "execution_count": 44,
   "metadata": {},
   "outputs": [
    {
     "name": "stderr",
     "output_type": "stream",
     "text": [
      "/home/jonting/.local/lib/python3.6/site-packages/ipykernel_launcher.py:6: DeprecationWarning: Calling Family(..) with a link class as argument is deprecated.\n",
      "Use an instance of a link class instead.\n",
      "  \n"
     ]
    },
    {
     "data": {
      "text/plain": [
       "0.3311827956989247"
      ]
     },
     "execution_count": 44,
     "metadata": {},
     "output_type": "execute_result"
    }
   ],
   "source": [
    "# exercise 13\n",
    "np.random.seed(1)\n",
    "error_model=[]\n",
    "for i in range(100):\n",
    "    train, test = train_test_split(fram, train_fraction=0.8)\n",
    "    fit = smf.glm(formula=\"HIGH_BP ~ sFRW + SEX + SEX:sFRW + sAGE + sAGE:sFRW + sAGE:SEX\", data=train, family=sm.families.Binomial(statsmodels.genmod.families.links.logit)).fit()\n",
    "    # print(fit.summary())\n",
    "    pred = fit.predict(test, transform=True)\n",
    "    # print(pred.describe)\n",
    "    error_rate = np.mean(((pred < 0.5) & (test.HIGH_BP == 1)) | ((pred > 0.5) & (test.HIGH_BP == 0)))\n",
    "    error_model.append(error_rate)\n",
    "pd.Series(error_model).mean()"
   ]
  },
  {
   "cell_type": "markdown",
   "metadata": {},
   "source": [
    "## Predicting coronary heart disease\n",
    "\n",
    "Let us use again the same data to learn a model for the occurrence of coronary heart disease. We will use logistic regression to predict whether a patient *sometimes* shows symptoms of coronary heart disease. For this, add to the data a binary variable `hasCHD`, that describes the event (`CHD > 0`). The binary variable `hadCHD` can get only two values: 0 or 1. As a sanity check, compute the mean of this variable, which tells the number of positive cases."
   ]
  },
  {
   "cell_type": "code",
   "execution_count": 45,
   "metadata": {},
   "outputs": [
    {
     "name": "stdout",
     "output_type": "stream",
     "text": [
      "0.22022955523672882 \n",
      "\n"
     ]
    }
   ],
   "source": [
    "# exercise 14\n",
    "fram[\"hasCHD\"] = fram.CHD > 0\n",
    "# print(fram.hasCHD.head(), \"\\n\")\n",
    "# print(fram.hasCHD.value_counts(), \"\\n\")\n",
    "fram.hasCHD = fram.hasCHD.map(int)  # Turn into 0 and 1 instead of Booleans\n",
    "print(fram.hasCHD.mean(), \"\\n\")\n",
    "# print(fram.head(), \"\\n\")"
   ]
  },
  {
   "cell_type": "markdown",
   "metadata": {},
   "source": [
    "Next, form a logistic regression model for variable `hasCHD` by using variables sCHOL, sCIG, and sFRW, and their interactions as explanatory variables. Store the fitted model to variable `fit`. Compute the prediction accuracy of the model, store it to variable `error_rate`."
   ]
  },
  {
   "cell_type": "code",
   "execution_count": 46,
   "metadata": {},
   "outputs": [
    {
     "name": "stdout",
     "output_type": "stream",
     "text": [
      "                 Generalized Linear Model Regression Results                  \n",
      "==============================================================================\n",
      "Dep. Variable:                 hasCHD   No. Observations:                 1394\n",
      "Model:                            GLM   Df Residuals:                     1387\n",
      "Model Family:                Binomial   Df Model:                            6\n",
      "Link Function:                  logit   Scale:                          1.0000\n",
      "Method:                          IRLS   Log-Likelihood:                -721.19\n",
      "Date:                Wed, 19 Feb 2020   Deviance:                       1442.4\n",
      "Time:                        01:59:41   Pearson chi2:                 1.39e+03\n",
      "No. Iterations:                     4                                         \n",
      "Covariance Type:            nonrobust                                         \n",
      "==============================================================================\n",
      "                 coef    std err          z      P>|z|      [0.025      0.975]\n",
      "------------------------------------------------------------------------------\n",
      "Intercept     -1.2888      0.067    -19.101      0.000      -1.421      -1.157\n",
      "sCHOL          0.3324      0.130      2.554      0.011       0.077       0.587\n",
      "sCIG           0.4613      0.126      3.666      0.000       0.215       0.708\n",
      "sCIG:sCHOL    -0.1022      0.273     -0.374      0.708      -0.637       0.433\n",
      "sFRW           0.4404      0.130      3.386      0.001       0.185       0.695\n",
      "sFRW:sCHOL     0.1359      0.239      0.568      0.570      -0.333       0.604\n",
      "sFRW:sCIG      0.1646      0.258      0.637      0.524      -0.342       0.671\n",
      "==============================================================================\n",
      "0.22022955523672882\n"
     ]
    },
    {
     "name": "stderr",
     "output_type": "stream",
     "text": [
      "/home/jonting/.local/lib/python3.6/site-packages/ipykernel_launcher.py:2: DeprecationWarning: Calling Family(..) with a link class as argument is deprecated.\n",
      "Use an instance of a link class instead.\n",
      "  \n"
     ]
    }
   ],
   "source": [
    "# exercise 15\n",
    "fit = smf.glm(formula=\"hasCHD ~ sCHOL + sCIG + sCIG:sCHOL + sFRW + sFRW:sCHOL + sFRW:sCIG\", data=fram, family=sm.families.Binomial(statsmodels.genmod.families.links.logit)).fit()\n",
    "print(fit.summary())\n",
    "error_rate = np.mean(((fit.fittedvalues < 0.5) & fram.hasCHD) | ((fit.fittedvalues > 0.5) & ~fram.hasCHD))\n",
    "print(error_rate)"
   ]
  },
  {
   "cell_type": "markdown",
   "metadata": {},
   "source": [
    "Visualize the model by using the most important explanator on the x axis. Visualize both the points (with `plt.scatter`)\n",
    "and the logistic curve (with `plt.plot`)."
   ]
  },
  {
   "cell_type": "code",
   "execution_count": 47,
   "metadata": {},
   "outputs": [
    {
     "data": {
      "text/plain": [
       "Text(0, 0.5, 'Pr(Has CHD)')"
      ]
     },
     "execution_count": 47,
     "metadata": {},
     "output_type": "execute_result"
    },
    {
     "data": {
      "image/png": "[encoded data removed]",
      "text/plain": [
       "<Figure size 432x288 with 1 Axes>"
      ]
     },
     "metadata": {
      "needs_background": "light"
     },
     "output_type": "display_data"
    }
   ],
   "source": [
    "# exercise 16\n",
    "def logistic(x):\n",
    "    return 1.0 / (1.0 + np.exp(-x))\n",
    "\n",
    "plt.scatter(fram.sCIG, fram.hasCHD + np.random.uniform(-0.05, 0.05, len(fram)), marker=\"d\")\n",
    "X = np.linspace(-0.5, 2.5, 100)\n",
    "p = fit.params\n",
    "plt.plot(X, logistic(X*p.sCIG + p.Intercept))\n",
    "plt.xlabel(\"Number of Cigarettes\")\n",
    "plt.ylabel(\"Pr(Has CHD)\")"
   ]
  },
  {
   "cell_type": "markdown",
   "metadata": {},
   "source": [
    "Is the prediction accuracy of the model good or bad? Can we expect to have practical use of the model?\n",
    "***\n",
    "The deviance which measures the error of the model is relatively small, therefore indicating that the prediction accuracy of the model is satisfactory. We can thus expect to have some practical use of the model.\n",
    "***"
   ]
  },
  {
   "cell_type": "markdown",
   "metadata": {},
   "source": [
    "If a person has cholestherol 200, smokes 17 cigarets per day, and has weight 100, then what is the probability that he/she sometimes shows signs of coronal hear disease? Note that the model expects normalized values. Store the normalized values to dictionary called `point`. Store the probability in variable `predicted`."
   ]
  },
  {
   "cell_type": "code",
   "execution_count": 56,
   "metadata": {},
   "outputs": [
    {
     "name": "stdout",
     "output_type": "stream",
     "text": [
      "0.2161579953939318\n"
     ]
    }
   ],
   "source": [
    "# exercise 17\n",
    "eg = {\"ID\": np.nan, \"SEX\": \"unknown\", \"AGE\": np.nan, \"FRW\": 100, \"SBP\": np.nan, \"SBP10\": np.nan, \"DBP\": np.nan, \"CHOL\": 200, \"CIG\": 17, \"CHD\": np.nan, \"YRS_CHD\": np.nan, \"DEATH\": \"unknown\"}\n",
    "eg = {\"FRW\": [100], \"CHOL\": [200], \"CIG\": [17]}\n",
    "df = pd.DataFrame(eg)\n",
    "\n",
    "fram = pd.read_csv(fram_path, sep='\\t')\n",
    "fram = fram.append(df, ignore_index=True, sort=True)\n",
    "con_var_list = [\"AGE\", \"FRW\", \"SBP\", \"SBP10\", \"DBP\", \"CHOL\", \"CIG\"]\n",
    "for i, var in enumerate(con_var_list):\n",
    "    heading = \"s\" + var\n",
    "    fram[heading] = rescale(fram[var])\n",
    "# print(fram[-5:])\n",
    "\n",
    "point = dict(fram.loc[1394, :])\n",
    "# print(point)\n",
    "predicted = float(fit.predict(point))\n",
    "print(predicted)"
   ]
  },
  {
   "cell_type": "code",
   "execution_count": null,
   "metadata": {},
   "outputs": [],
   "source": []
  }
 ],
 "metadata": {
  "kernelspec": {
   "display_name": "Python 3",
   "language": "python",
   "name": "python3"
  },
  "language_info": {
   "codemirror_mode": {
    "name": "ipython",
    "version": 3
   },
   "file_extension": ".py",
   "mimetype": "text/x-python",
   "name": "python",
   "nbconvert_exporter": "python",
   "pygments_lexer": "ipython3",
   "version": "3.6.8"
  }
 },
 "nbformat": 4,
 "nbformat_minor": 2
}
