{
 "cells": [
  {
   "cell_type": "markdown",
   "metadata": {},
   "source": [
    "# Sequence Analysis with Python\n",
    "\n",
    "Contact: Veli Mäkinen veli.makinen@helsinki.fi"
   ]
  },
  {
   "cell_type": "markdown",
   "metadata": {},
   "source": [
    "The following assignments introduce applications of hashing with ```dict()``` primitive of Python. While doing so, a rudimentary introduction to biological sequences is given. \n",
    "This framework is then enhanced with probabilities, leading to routines to generate random sequences under some constraints, including a general concept of *Markov-chains*. All these components illustrate the usage of ```dict()```, but at the same time introduce some other computational routines to efficiently deal with probabilities.   \n",
    "The function ```collections.defaultdict``` can be useful.\n",
    "\n",
    "Below are some \"suggested\" imports. Feel free to use and modify these, or not. Generally it's good practice to keep most or all imports in one place. Typically very close to the start of notebooks."
   ]
  },
  {
   "cell_type": "code",
   "execution_count": 132,
   "metadata": {
    "ExecuteTime": {
     "end_time": "2019-07-08T22:04:22.831112Z",
     "start_time": "2019-07-08T22:04:22.688031Z"
    }
   },
   "outputs": [],
   "source": [
    "import math\n",
    "import numpy as np\n",
    "import random as rd\n",
    "from numpy.random import choice\n",
    "from collections import defaultdict\n",
    "from itertools import product\n",
    "from bs4 import BeautifulSoup"
   ]
  },
  {
   "cell_type": "markdown",
   "metadata": {},
   "source": [
    "The automated TMC tests do not test cell outputs. These are intended to be evaluated in the peer reviews. So it is still be a good idea to make the outputs as clear and informative as possible.\n",
    "\n",
    "To keep TMC tests running as well as possible it is recommended to keep global variable assignments in the notebook to a minimum to avoid potential name clashes and confusion. Additionally you should keep all actual code exection in main guards to keep the test running smoothly. If you run [check_sequence.py](https://raw.githubusercontent.com/saskeli/data-analysis-with-python-summer-2019/master/check_outputs.py) in the `part07-e01_sequence_analysis` folder, the script should finish very quickly and optimally produce no output.\n",
    "\n",
    "If you download data from the internet during execution (codon usage table), the parts where downloading is done should not work if you decide to submit to the tmc server. Local tests should work fine."
   ]
  },
  {
   "cell_type": "markdown",
   "metadata": {},
   "source": [
    "## DNA and RNA\n",
    "\n",
    "A DNA molecule consist, in principle, of a chain of smaller molecules. These smaller molecules have some common basic components (bases) that repeat. For our purposes it is sufficient to know that these bases are nucleotides adenine, cytosine, guanine, and thymine with abbreviations ```A```, ```C```, ```G```, and ```T```. Given a *DNA sequence* e.g. ```ACGATGAGGCTCAT```, one can reverse engineer (with negligible loss of information) the corresponding DNA molecule.\n",
    "\n",
    "Parts of a DNA molecule can *transcribe* into an RNA molecule. In this process, thymine gets replaced by uracil (```U```). \n",
    "\n",
    "\n",
    "1. Write a function ```dna_to_rna``` to convert a given DNA sequence $s$ into an RNA sequence. For the sake of exercise, use ```dict()``` to store the symbol to symbol encoding rules. Create a program to test your function."
   ]
  },
  {
   "cell_type": "code",
   "execution_count": 133,
   "metadata": {
    "ExecuteTime": {
     "end_time": "2019-07-08T22:04:22.841952Z",
     "start_time": "2019-07-08T22:04:22.834721Z"
    }
   },
   "outputs": [
    {
     "name": "stdout",
     "output_type": "stream",
     "text": [
      "AACGUGAUUUC\n"
     ]
    }
   ],
   "source": [
    "dna_dict = {\"A\": \"A\", \"C\": \"C\", \"G\": \"G\", \"T\": \"U\"}\n",
    "\n",
    "def dna_to_rna(s):\n",
    "    return \"\".join(dna_dict[_] for _ in s)\n",
    "    \n",
    "if __name__ == '__main__':\n",
    "    print(dna_to_rna(\"AACGTGATTTC\"))"
   ]
  },
  {
   "cell_type": "markdown",
   "metadata": {},
   "source": [
    "### Idea of solution\n",
    "\n",
    "A dictionary *dna_dict* containing the encoding rules was created. Due to the requirement of transcription of DNA into RNA, \"U\" (uracil) is used instead of \"T\" (thymine). I modified the *dna_to_rna()* function so that it replaces the original nucleotides with the corresponding RNA base from the dictionary instead of replacing all nucleotides with uracils."
   ]
  },
  {
   "cell_type": "markdown",
   "metadata": {},
   "source": [
    "### Discussion\n",
    "\n",
    "The new *dna_to_rna()* function worked very with the little changes I have incorporated. The given example DNA sequence \"AACGTGATTTC\" was transcribed correctly by the function into \"AACGUGAUUUC\"."
   ]
  },
  {
   "cell_type": "markdown",
   "metadata": {},
   "source": [
    "## Proteins\n",
    "\n",
    "Like DNA and RNA, protein molecule can be interpreted as a chain of smaller molecules, where the bases are now amino acids. RNA molecule may *translate* into a protein molecule, but instead of base by base, three bases of RNA correspond to one base of protein. That is, RNA sequence is read triplet (called codon) at a time. \n",
    "\n",
    "2. Consider the codon to amino acid conversion table in http://www.kazusa.or.jp/codon/cgi-bin/showcodon.cgi?species=9606&aa=1&style=N. Write a function ```get_dict``` to read the table into a ```dict()```, such that for each RNA sequence of length 3, say $\\texttt{AGU}$, the hash table stores the conversion rule to the corresponding amino acid. You may store the html page to your local src directory,\n",
    "and parse that file."
   ]
  },
  {
   "cell_type": "code",
   "execution_count": 134,
   "metadata": {
    "ExecuteTime": {
     "end_time": "2019-07-08T22:04:22.867855Z",
     "start_time": "2019-07-08T22:04:22.845885Z"
    }
   },
   "outputs": [
    {
     "name": "stdout",
     "output_type": "stream",
     "text": [
      "{'UUU': 'F', 'UCU': 'S', 'UAU': 'Y', 'UGU': 'C', 'UUC': 'F', 'UCC': 'S', 'UAC': 'Y', 'UGC': 'C', 'UUA': 'L', 'UCA': 'S', 'UAA': '*', 'UGA': '*', 'UUG': 'L', 'UCG': 'S', 'UAG': '*', 'UGG': 'W', 'CUU': 'L', 'CCU': 'P', 'CAU': 'H', 'CGU': 'R', 'CUC': 'L', 'CCC': 'P', 'CAC': 'H', 'CGC': 'R', 'CUA': 'L', 'CCA': 'P', 'CAA': 'Q', 'CGA': 'R', 'CUG': 'L', 'CCG': 'P', 'CAG': 'Q', 'CGG': 'R', 'AUU': 'I', 'ACU': 'T', 'AAU': 'N', 'AGU': 'S', 'AUC': 'I', 'ACC': 'T', 'AAC': 'N', 'AGC': 'S', 'AUA': 'I', 'ACA': 'T', 'AAA': 'K', 'AGA': 'R', 'AUG': 'M', 'ACG': 'T', 'AAG': 'K', 'AGG': 'R', 'GUU': 'V', 'GCU': 'A', 'GAU': 'D', 'GGU': 'G', 'GUC': 'V', 'GCC': 'A', 'GAC': 'D', 'GGC': 'G', 'GUA': 'V', 'GCA': 'A', 'GAA': 'E', 'GGA': 'G', 'GUG': 'V', 'GCG': 'A', 'GAG': 'E', 'GGG': 'G'}\n"
     ]
    }
   ],
   "source": [
    "    \n",
    "def get_dict():\n",
    "    url = \"http://www.kazusa.or.jp/codon/cgi-bin/showcodon.cgi?species=9606&aa=1&style=N\"\n",
    "    soup = BeautifulSoup(open(\"conversion_table.html\"), 'html5lib')\n",
    "    pre_content = soup.find_all('pre')[-1]\n",
    "    # print(pre_content)\n",
    "    row_list = pre_content.text.strip().split(\")\")[:-1]\n",
    "    # print(row_list)\n",
    "    conversion_dict = {}\n",
    "    for i, row in enumerate(row_list):\n",
    "        # print(row.split())\n",
    "        conversion_dict[row.split()[0]] = row.split()[1]\n",
    "    return conversion_dict\n",
    "    \n",
    "if __name__ == '__main__':\n",
    "    codon_to_aa = get_dict()\n",
    "    print(codon_to_aa)"
   ]
  },
  {
   "cell_type": "markdown",
   "metadata": {},
   "source": [
    "### Idea of solution\n",
    "\n",
    "I first stored the html page containing the conversion table to my local src directory (*conversion_table.html*), then parse the file using the BeautifulSoup package. The content of the html page within the \"*PRE*\" tag was extracted as it is where the conversion rules lie. It is in a text format instead of table. I thus strip the unwanted newlines and split the content so that each entry corresponds to a codon. I chose \")\" as the splitting delimiter for this purpose. However, this causes an extra empty entry to be produced. I thus dropped the last entry before proceeding. The conversion table dictionary was produced by looping through each of the entry and storing the codons as the keys and the amino acids as the values."
   ]
  },
  {
   "cell_type": "markdown",
   "metadata": {},
   "source": [
    "### Discussion\n",
    "\n",
    "The function *get_dict()* works perfectly. A dictionary that contains the conversion rules of codons to their corresponding amino acids is returned."
   ]
  },
  {
   "cell_type": "markdown",
   "metadata": {},
   "source": [
    "3. Use the same conversion table as above, but now write function `get_dict_list` to read the table into a `dict()`, such that for each amino acid the hash table stores the list of codons encoding it.    "
   ]
  },
  {
   "cell_type": "code",
   "execution_count": 135,
   "metadata": {
    "ExecuteTime": {
     "end_time": "2019-07-08T22:04:22.882386Z",
     "start_time": "2019-07-08T22:04:22.872449Z"
    }
   },
   "outputs": [
    {
     "name": "stdout",
     "output_type": "stream",
     "text": [
      "{'F': ['UUU', 'UUC'], 'S': ['UCU', 'UCC', 'UCA', 'UCG', 'AGU', 'AGC'], 'Y': ['UAU', 'UAC'], 'C': ['UGU', 'UGC'], 'L': ['UUA', 'UUG', 'CUU', 'CUC', 'CUA', 'CUG'], '*': ['UAA', 'UGA', 'UAG'], 'W': ['UGG'], 'P': ['CCU', 'CCC', 'CCA', 'CCG'], 'H': ['CAU', 'CAC'], 'R': ['CGU', 'CGC', 'CGA', 'CGG', 'AGA', 'AGG'], 'Q': ['CAA', 'CAG'], 'I': ['AUU', 'AUC', 'AUA'], 'T': ['ACU', 'ACC', 'ACA', 'ACG'], 'N': ['AAU', 'AAC'], 'K': ['AAA', 'AAG'], 'M': ['AUG'], 'V': ['GUU', 'GUC', 'GUA', 'GUG'], 'A': ['GCU', 'GCC', 'GCA', 'GCG'], 'D': ['GAU', 'GAC'], 'G': ['GGU', 'GGC', 'GGA', 'GGG'], 'E': ['GAA', 'GAG']}\n"
     ]
    }
   ],
   "source": [
    "\n",
    "def get_dict_list():\n",
    "    url = \"http://www.kazusa.or.jp/codon/cgi-bin/showcodon.cgi?species=9606&aa=1&style=N\"\n",
    "    soup = BeautifulSoup(open(\"conversion_table.html\"), 'html5lib')\n",
    "    pre_content = soup.find_all('pre')[-1]\n",
    "    # print(pre_content)\n",
    "    row_list = pre_content.text.strip().split(\")\")[:-1]\n",
    "    # print(row_list)\n",
    "    conversion_dict = {}\n",
    "    for i, row in enumerate(row_list):\n",
    "        codon, aa = row.split()[0], row.split()[1]\n",
    "        if aa in conversion_dict:\n",
    "            conversion_dict[aa].append(codon)\n",
    "        else:\n",
    "            conversion_dict[aa] = [codon]\n",
    "    return conversion_dict\n",
    "    \n",
    "if __name__ == '__main__':\n",
    "    aa_to_codons = get_dict_list()\n",
    "    print(aa_to_codons)"
   ]
  },
  {
   "cell_type": "markdown",
   "metadata": {},
   "source": [
    "### Idea of solution\n",
    "\n",
    "I defined \"codon\" and \"aa\" for better clarification. All that is added compared to the *get_dict()* function is a conditional statement that checks whether a particular amino acid the loop comes across has already been included in the dictionary. If so, the new codon is simply appended to its list of codon corresponding to the amino acids, otherwise the function will place the codon into a new list that corresponds to the amino acid."
   ]
  },
  {
   "cell_type": "markdown",
   "metadata": {},
   "source": [
    "### Discussion\n",
    "\n",
    "The function *get_dict_list()* works well. A dictionary that contains the encoding rules of amino acids by the potential codons is returned."
   ]
  },
  {
   "cell_type": "markdown",
   "metadata": {},
   "source": [
    "With the conversion tables at hand, the following should be trivial to solve.\n",
    "\n",
    "4. Fill in function ```rna_to_prot``` in the stub solution to convert a given DNA sequence $s$ into a protein sequence. \n",
    "You may use the dictionaries from exercises 2 and 3. You can test your program with `ATGATATCATCGACGATGTAG`."
   ]
  },
  {
   "cell_type": "code",
   "execution_count": 136,
   "metadata": {
    "ExecuteTime": {
     "end_time": "2019-07-08T22:04:22.913321Z",
     "start_time": "2019-07-08T22:04:22.906646Z"
    }
   },
   "outputs": [
    {
     "name": "stdout",
     "output_type": "stream",
     "text": [
      "MISSTM*\n"
     ]
    }
   ],
   "source": [
    "\n",
    "def rna_to_prot(s):\n",
    "    conv_dict = get_dict()\n",
    "    split_s = [s[i: i + 3] for i in range(0, len(s), 3)]\n",
    "    return \"\".join(conv_dict[_] for _ in split_s)\n",
    "\n",
    "def dna_to_prot(s):\n",
    "    return rna_to_prot(dna_to_rna(s))\n",
    "\n",
    "if __name__ == '__main__':\n",
    "    print(dna_to_prot(\"ATGATATCATCGACGATGTAG\"))"
   ]
  },
  {
   "cell_type": "markdown",
   "metadata": {},
   "source": [
    "### Idea of solution\n",
    "\n",
    "The conversion rule dictionary is first obtained from exercise 2. The input DNA sequence, which is first converted into RNA sequence by the previous *dna_to_rna()* function, is then split into groups of 3 representing the codons. The corresponding amino acids are then obtained from the dictionary and concatenated together."
   ]
  },
  {
   "cell_type": "markdown",
   "metadata": {},
   "source": [
    "### Discussion\n",
    "\n",
    "The function *rna_to_prot()* managed to convert the example DNA sequence \"ATGATATCATCGACGATGTAG\" to protein sequence \"YYSSCYI\", which is deemed to be correct."
   ]
  },
  {
   "cell_type": "markdown",
   "metadata": {},
   "source": [
    "You may notice that there are $4^3=64$ different codons, but only 20 amino acids. That is, some triplets encode the same amino acid.  "
   ]
  },
  {
   "cell_type": "markdown",
   "metadata": {},
   "source": [
    "## Reverse translation\n",
    "\n",
    "It has been observed that among the codons coding the same amino acid, some are more frequent than others. These frequencies can be converted to probabilities. E.g. consider codons `AUU`, `AUC`, and `AUA` that code for amino acid isoleucine.\n",
    "If they are observed, say, 36, 47, 17 times, respectively, to code isoleucine in a dataset, the probability that a random such event is `AUU` $\\to$ isoleucine is 36/100.\n",
    "\n",
    "This phenomenon is called *codon adaptation*, and for our purposes it works as a good introduction to generation of random sequences under constraints.   \n",
    "\n",
    "5. Consider the codon adaptation frequencies in http://www.kazusa.or.jp/codon/cgi-bin/showcodon.cgi?species=9606&aa=1&style=N and read them into a ```dict()```, such that for each RNA sequence of length 3, say `AGU`, the hash table stores the probability of that codon among codons encoding the same amino acid.\n",
    "Put your solution in the ```get_probabability_dict``` function."
   ]
  },
  {
   "cell_type": "code",
   "execution_count": 137,
   "metadata": {
    "ExecuteTime": {
     "end_time": "2019-07-08T22:04:22.966173Z",
     "start_time": "2019-07-08T22:04:22.956013Z"
    }
   },
   "outputs": [
    {
     "name": "stdout",
     "output_type": "stream",
     "text": [
      "AAA: 0.434049\tAAC: 0.529633\tAAG: 0.565951\tAAU: 0.470367\tACA: 0.284188\tACC: 0.355232\n",
      "ACG: 0.113812\tACU: 0.246769\tAGA: 0.214658\tAGC: 0.239938\tAGG: 0.211091\tAGU: 0.149602\n",
      "AUA: 0.169062\tAUC: 0.469866\tAUG: 1.000000\tAUU: 0.361072\tCAA: 0.265017\tCAC: 0.581485\n",
      "CAG: 0.734983\tCAU: 0.418515\tCCA: 0.276603\tCCC: 0.323470\tCCG: 0.113196\tCCU: 0.286731\n",
      "CGA: 0.108812\tCGC: 0.183777\tCGG: 0.201554\tCGU: 0.080108\tCUA: 0.071380\tCUC: 0.195577\n",
      "CUG: 0.395702\tCUU: 0.131716\tGAA: 0.422453\tGAC: 0.535458\tGAG: 0.577547\tGAU: 0.464542\n",
      "GCA: 0.228121\tGCC: 0.399781\tGCG: 0.106176\tGCU: 0.265922\tGGA: 0.249922\tGGC: 0.337109\n",
      "GGG: 0.249882\tGGU: 0.163087\tGUA: 0.116577\tGUC: 0.238306\tGUG: 0.463346\tGUU: 0.181770\n",
      "UAA: 0.297019\tUAC: 0.556662\tUAG: 0.236738\tUAU: 0.443338\tUCA: 0.150517\tUCC: 0.217960\n",
      "UCG: 0.054398\tUCU: 0.187586\tUGA: 0.466243\tUGC: 0.543843\tUGG: 1.000000\tUGU: 0.456157\n",
      "UUA: 0.076568\tUUC: 0.535866\tUUG: 0.129058\tUUU: 0.464134\n"
     ]
    }
   ],
   "source": [
    "\n",
    "def get_probabability_dict():\n",
    "    url = \"http://www.kazusa.or.jp/codon/cgi-bin/showcodon.cgi?species=9606&aa=1&style=N\"\n",
    "    soup = BeautifulSoup(open(\"conversion_table.html\"), 'html5lib')\n",
    "    pre_content = soup.find_all('pre')[-1]\n",
    "    # print(pre_content)\n",
    "    row_list = pre_content.text.strip().split(\")\")[:-1]\n",
    "    # print(row_list)\n",
    "    codon_to_aa, aa_to_codons = get_dict(), get_dict_list()\n",
    "    num_dict, prob_dict = {}, {}\n",
    "    for i, row in enumerate(row_list):\n",
    "        codon, num = row.split()[0], int(row.split(\"(\")[-1])\n",
    "        num_dict[codon] = num\n",
    "    # print(num_dict)\n",
    "    for i, codon in enumerate(num_dict.keys()):\n",
    "        aa = codon_to_aa[codon]\n",
    "        # print(aa_to_codons[aa])\n",
    "        total_num = 0\n",
    "        for i, cod in enumerate(aa_to_codons[aa]):\n",
    "            total_num += num_dict[cod]\n",
    "        prob = num_dict[codon] / total_num\n",
    "        prob_dict[codon] = prob\n",
    "    # print(prob_dict)\n",
    "    return prob_dict\n",
    "    \n",
    "if __name__ == '__main__':\n",
    "    codon_to_prob = get_probabability_dict()\n",
    "    items = sorted(codon_to_prob.items(), key=lambda x: x[0])\n",
    "    for i in range(1 + len(items)//6):\n",
    "        print(\"\\t\".join(\n",
    "            f\"{k}: {v:.6f}\"\n",
    "            for k, v in items[i*6:6+i*6]\n",
    "        ))"
   ]
  },
  {
   "cell_type": "markdown",
   "metadata": {},
   "source": [
    "### Idea of solution\n",
    "\n",
    "A new dictionary storing the number of times each codon appears is computed using the data from the website. Each of the codon is then looped through and the corresponding amino acids that the codons encode are extracted using the previously defined function *get_dict()*. All possible codons that could have encoded the same amino acids are then obtained using the *get_dict_list()* function. The total number of times that each of the possible codons appear is then calculated and used to compute the probability of that codon among codons encoding the same amino acid. The probability is then stored in the dictionary to be returned."
   ]
  },
  {
   "cell_type": "markdown",
   "metadata": {},
   "source": [
    "### Discussion\n",
    "\n",
    "The *get_probabability_dict()* function returned a dictionary that stores the probability of that codon among codons encoding the same amino acid successfully."
   ]
  },
  {
   "cell_type": "markdown",
   "metadata": {},
   "source": [
    "Now you should have everything in place to easily solve the following.\n",
    "\n",
    "\n",
    "6. Write a class ```ProteinToMaxRNA``` with a ```convert``` method which converts a protein sequence into the most likely RNA sequence to be the source of this protein. Run your program with `LTPIQNRA`."
   ]
  },
  {
   "cell_type": "code",
   "execution_count": 138,
   "metadata": {
    "ExecuteTime": {
     "end_time": "2019-07-08T22:04:23.000743Z",
     "start_time": "2019-07-08T22:04:22.992108Z"
    }
   },
   "outputs": [
    {
     "name": "stdout",
     "output_type": "stream",
     "text": [
      "GCCAGAAACCAGAUCCCCACCCUG\n"
     ]
    }
   ],
   "source": [
    "class ProteinToMaxRNA:\n",
    "    \n",
    "    def __init__(self):\n",
    "        pass\n",
    "\n",
    "    def convert(self, s):\n",
    "        prot2rna_dict = get_dict_list()\n",
    "        prob_dict = get_probabability_dict()\n",
    "        # print(\"prot2rna_dict:\\n\", prot2rna_dict, \"\\n\\nprob_dict:\\n\", prob_dict)\n",
    "        idx_list = []\n",
    "        for i, aa in enumerate(s):\n",
    "            possible_codons = prot2rna_dict[aa]\n",
    "            prob_codons = []\n",
    "            for codon in possible_codons:\n",
    "                prob = codon.replace(codon, str(prob_dict[codon]))\n",
    "                prob_codons.append(float(prob))\n",
    "            # print(possible_codons, prob_codons)\n",
    "            maxRNA = max(prob_codons)\n",
    "            idx = prob_codons.index(maxRNA)\n",
    "            idx_list.append(idx)\n",
    "            # print(maxRNA, idx)\n",
    "        # print(idx_list)\n",
    "        codon_s = []\n",
    "        codon_s = [prot2rna_dict[_][idx_list[i]] for i, _ in enumerate(s)]\n",
    "        return \"\".join(codon_s)\n",
    "\n",
    "\n",
    "if __name__ == '__main__':\n",
    "    protein_to_rna = ProteinToMaxRNA()\n",
    "    # print(protein_to_rna.convert(\"LTPIQNRA\"))\n",
    "    print(protein_to_rna.convert(\"ARNQIPTL\"))"
   ]
  },
  {
   "cell_type": "markdown",
   "metadata": {},
   "source": [
    "### Idea of solution\n",
    "\n",
    "The previously written dictionaries were first obtained from exercises 3 and 5. Looping through the given protein sequence, I first obtained the list of possible codons that might have encoded the amino acids using the first dictionary, and then the corresponding probability from the second dictionary.  Next, I identified the encoding codon with the highest probability and stored the index (or position of the codon among the list of possible codons) for later usage. The last step involves the first dictionary again. Now that I have the indices of the most possible encoding codon, I simply looped through the amino acids in the given protein sequence and constructed the list of codons that have most likely encoded the protein sequence."
   ]
  },
  {
   "cell_type": "markdown",
   "metadata": {},
   "source": [
    "### Discussion\n",
    "\n",
    "The newly written *convert()* method of class *ProteinToMaxRNA* successfully converted the protein sequence \"LTPIQNRA\" into the most likely RNA sequence to be the source of this protein \"UUGACCCCCAUCCAGAACCGCGCC\"."
   ]
  },
  {
   "cell_type": "markdown",
   "metadata": {},
   "source": [
    "Now we are almost ready to produce random RNA sequences that code a given protein sequence. For this, we need a subroutine to *sample from a probability distribution*. Consider our earlier example of probabilities 36/100, 47/100, and 17/100 for `AUU`, `AUC`, and `AUA`, respectively. \n",
    "Let us assume we have a random number generator ```random()``` that returns a random number from interval $[0,1)$. We may then partition the unit interval according to cumulative probabilities to $[0,36/100), [36/100,83/100), [83/100,1)$, respectively. Depending which interval the number ```random()``` hits, we select the codon accordingly.\n",
    "\n",
    "7. Write a function ```random_event``` that chooses a random event, given a probability distribution (set of events whose probabilities sum to 1).\n",
    "You can use function ```random.uniform``` to produce values uniformly at random from the range $[0,1)$. The distribution should be given to your function as a dictionary from events to their probabilities."
   ]
  },
  {
   "cell_type": "code",
   "execution_count": 139,
   "metadata": {
    "ExecuteTime": {
     "end_time": "2019-07-08T22:04:23.036655Z",
     "start_time": "2019-07-08T22:04:23.030067Z"
    }
   },
   "outputs": [
    {
     "name": "stdout",
     "output_type": "stream",
     "text": [
      "G, T, C, T, G, T, T, T, T, C, T, C, G, T, G, C, C, A, G, C, C, T, G, C, C, T, C, T, C\n"
     ]
    }
   ],
   "source": [
    "def random_event(dist):\n",
    "    \"\"\"\n",
    "    Takes as input a dictionary from events to their probabilities.\n",
    "    Return a random event sampled according to the given distribution.\n",
    "    The probabilities must sum to 1.0\n",
    "    \"\"\"\n",
    "    val = rd.Random().uniform(0, 1)\n",
    "    for key, value in dist.items():\n",
    "        # print(key)\n",
    "        val -= value\n",
    "        if val < 0:\n",
    "            return key\n",
    "\n",
    "if __name__ == '__main__':\n",
    "    distribution = dict(zip(\"ACGT\", [0.10, 0.35, 0.15, 0.40]))\n",
    "    # print(distribution)\n",
    "    print(\", \".join(random_event(distribution) for _ in range(29)))"
   ]
  },
  {
   "cell_type": "markdown",
   "metadata": {},
   "source": [
    "### Idea of solution\n",
    "\n",
    "The *random.uniform()* function was utilised as suggested to generate a random value withn the desired interval. I then loop through the distribution dictionary and subtract the probability of sampling each nucleotide (which sums up to 1.0 conveniently) from the generated value and check the sign of the value immediately afterwards. If the sign turns to negative, it means that the value generated hits the interval and therefore the current nucleotide is chosen to be returned. This method would only work if the looping sequence of the keys of *dist.items()* remains the same and I checked that it does indeed."
   ]
  },
  {
   "cell_type": "markdown",
   "metadata": {},
   "source": [
    "### Discussion\n",
    "\n",
    "The *random_event()* function managed to return random nucleotides sampled according to the given distribution. It is seen that \"A\" which has the lowest probability of occuring is sampled the least, in contrast with \"T\" which is four times more likely to be sampled. This indicates that the function is working satisfactorily."
   ]
  },
  {
   "cell_type": "markdown",
   "metadata": {},
   "source": [
    "With this general routine, the following should be easy to solve.\n",
    " \n",
    "8. Write a class ```ProteinToRandomRNA``` to produce a random RNA sequence encoding the input protein sequence according to the input codon adaptation probabilities. The actual conversion is done through the ```convert``` method. Run your program with `LTPIQNRA`."
   ]
  },
  {
   "cell_type": "code",
   "execution_count": 140,
   "metadata": {
    "ExecuteTime": {
     "end_time": "2019-07-08T22:04:23.073660Z",
     "start_time": "2019-07-08T22:04:23.067966Z"
    }
   },
   "outputs": [
    {
     "name": "stdout",
     "output_type": "stream",
     "text": [
      "CUUACUCCUAUCCAGAAUCGGGCC\n"
     ]
    }
   ],
   "source": [
    "class ProteinToRandomRNA(object):\n",
    "    \n",
    "    def __init__(self):\n",
    "        pass \n",
    "\n",
    "    def convert(self, s):\n",
    "        prot2rna_dict = get_dict_list()\n",
    "        prob_dict = get_probabability_dict()\n",
    "        # print(len(prot2rna_dict), \"\\n\\n\", len(prob_dict))\n",
    "        codon_s = []\n",
    "        for i, aa in enumerate(s):\n",
    "            possible_codons = prot2rna_dict[aa]\n",
    "            prob_codons, idx_list = [], []\n",
    "            for a in possible_codons:\n",
    "                prob = a.replace(a, str(prob_dict[a]))\n",
    "                prob_codons.append(float(prob))\n",
    "            # print(possible_codons, prob_codons)\n",
    "            codon_dict = dict(zip(possible_codons, prob_codons))\n",
    "            # print(codon_dict)\n",
    "            codon = random_event(codon_dict)\n",
    "            if codon == None:\n",
    "                print(\"codon of None is found!\")\n",
    "                continue\n",
    "            codon_s.append(codon)\n",
    "        return \"\".join(codon_s)\n",
    "        \n",
    "if __name__ == '__main__':\n",
    "    protein_to_random_codons = ProteinToRandomRNA()\n",
    "    print(protein_to_random_codons.convert(\"LTPIQNRA\"))"
   ]
  },
  {
   "cell_type": "markdown",
   "metadata": {},
   "source": [
    "### Idea of solution\n",
    "\n",
    "This *convert()* method is largely similar to the previous one belonging to the class *ProteinToMaxRNA*, except that the codons were generated randomly using the previously written *random_event()* function. The selections of the codons are based on the dictionaries containing the probabilities of the input codon adaptation. The generated codons strings were joined together in the last step."
   ]
  },
  {
   "cell_type": "markdown",
   "metadata": {},
   "source": [
    "### Discussion\n",
    "\n",
    "The *convert()* method of the class *ProteinToRandomRNA* managed to produce a random RNA sequence \"CUGACCCCAAUACAAAAUCGCGCA\" encoding the input protein sequence \"LTPIQNRA\" according to the input codon adaptation probabilities."
   ]
  },
  {
   "cell_type": "markdown",
   "metadata": {},
   "source": [
    "## Generating DNA sequences with higher-order Markov chains\n",
    "\n",
    "We will now reuse the machinery derived above in a related context. We go back to DNA sequences, and consider some easy statistics that can be used to characterize the sequences. \n",
    "First, just the frequencies of bases $\\texttt{A}$, $\\texttt{C}$, $\\texttt{G}$, $\\texttt{T}$ may reveal the species from which the input DNA originates; each species has a different base composition that has been formed during evolution. \n",
    "More interestingly, the areas where DNA to RNA transcription takes place (coding region) have an excess of $\\texttt{C}$ and $\\texttt{G}$ over $\\texttt{A}$ and $\\texttt{T}$. To detect such areas a common routine is to just use a *sliding window* of fixed size, say $k$, and compute for each window position \n",
    "$T[i..i+k-1]$ the base frequencies, where $T[1..n]$ is the input DNA sequence. When sliding the window from  $T[i..i+k-1]$ to $T[i+1..i+k]$ frequency $f(T[i])$ gets decreases by one and $f(T[i+k])$ gets increased by one. \n",
    "\n",
    "9. Write a *generator* ```sliding_window``` to compute sliding window base frequencies so that each moving of the window takes constant time. We saw in the beginning of the course one way how to create generators using\n",
    "  generator expression. Here we use a different way. For the function ```sliding_window``` to be a generator, it must have at least   one ```yield``` expression, see [https://docs.python.org/3/reference/expressions.html#yieldexpr](https://docs.python.org/3/reference/expressions.html#yieldexpr).\n",
    "  \n",
    "  Here is an example of a generator expression that works similarily to the built in `range` generator:\n",
    "  ```Python\n",
    "  def range(a, b=None, c=1):\n",
    "      current = 0 if b == None else a\n",
    "      end = a if b == None else b\n",
    "      while current < end:\n",
    "          yield current\n",
    "          current += c\n",
    "  ```\n",
    "  A yield expression can be used to return a value and *temporarily* return from the function."
   ]
  },
  {
   "cell_type": "code",
   "execution_count": 141,
   "metadata": {
    "ExecuteTime": {
     "end_time": "2019-07-08T22:04:23.111365Z",
     "start_time": "2019-07-08T22:04:23.100858Z"
    }
   },
   "outputs": [
    {
     "name": "stdout",
     "output_type": "stream",
     "text": [
      "{'A': 0, 'C': 3, 'G': 0, 'T': 1} \tSum: 4\n",
      "{'A': 0, 'C': 3, 'G': 1, 'T': 0} \tSum: 4\n",
      "{'A': 1, 'C': 2, 'G': 1, 'T': 0} \tSum: 4\n",
      "{'A': 1, 'C': 2, 'G': 1, 'T': 0} \tSum: 4\n",
      "{'A': 1, 'C': 1, 'G': 2, 'T': 0} \tSum: 4\n",
      "{'A': 1, 'C': 1, 'G': 2, 'T': 0} \tSum: 4\n",
      "{'A': 0, 'C': 2, 'G': 2, 'T': 0} \tSum: 4\n",
      "{'A': 0, 'C': 2, 'G': 2, 'T': 0} \tSum: 4\n",
      "{'A': 0, 'C': 2, 'G': 1, 'T': 1} \tSum: 4\n",
      "{'A': 0, 'C': 2, 'G': 0, 'T': 2} \tSum: 4\n",
      "{'A': 0, 'C': 1, 'G': 1, 'T': 2} \tSum: 4\n",
      "{'A': 0, 'C': 1, 'G': 1, 'T': 2} \tSum: 4\n",
      "{'A': 0, 'C': 2, 'G': 1, 'T': 1} \tSum: 4\n"
     ]
    }
   ],
   "source": [
    "def sliding_window(s, k):\n",
    "    \"\"\"\n",
    "    This function returns a generator that can be iterated over all\n",
    "    starting position of a k-window in the sequence.\n",
    "    For each starting position the generator returns the nucleotide frequencies\n",
    "    in the window as a dictionary.\n",
    "    \"\"\"\n",
    "    base_dict = {\"A\": 0, \"C\": 0, \"G\": 0, \"T\": 0}\n",
    "    for i, _ in enumerate(s):\n",
    "        window = s[i: i + k]\n",
    "        if len(window) < k:\n",
    "            break\n",
    "        for key in base_dict.keys():\n",
    "            base_dict[key] = window.count(key)\n",
    "        yield base_dict\n",
    "        \n",
    "    \n",
    "if __name__ == '__main__':\n",
    "    s = \"TCCCGACGGCCTTGCC\"\n",
    "    for d in sliding_window(s, 4):\n",
    "        print(d, \"\\tSum:\", sum(d.values()))"
   ]
  },
  {
   "cell_type": "markdown",
   "metadata": {},
   "source": [
    "### Idea of solution\n",
    "\n",
    "I first created a dictionary using the four nucleotides as keys. Next, looping through the each position in the given nucleotide sequence, a window of length *k* (four in the example case) was extracted starting from the position. A conditional statement was placed right after to ensure that the windows is always of consistent length, otherwise the loop breaks. Lastly in the for loop, I counted the frequencies of each nucleotide in the window and stored the value in the dictionary which gets returned by the generator."
   ]
  },
  {
   "cell_type": "markdown",
   "metadata": {},
   "source": [
    "### Discussion\n",
    "\n",
    "The *sliding_window()* function successfully generated generators that return the nucleotide frequencies in the window as a dictionary. For the nucleotide sequence \"TCCCGACGGCCTTGCC\", thirteen dictionaries were returned, each of which contains the frequencies of nucleotides over a window of *k* (four in the example case)."
   ]
  },
  {
   "cell_type": "markdown",
   "metadata": {},
   "source": [
    " \n",
    "Our models so far have been so-called *zero-order* models, as each event has been independent of other events. With sequences, the dependencies of events are naturally encoded by their *contexts*. Considering that a sequence is produced from left-to-right, a *first-order* context for $T[i]$ is $T[i-1]$, that is, the immediately preceding symbol. *First-order Markov chain* is a sequence produced by generating $c=T[i]$ with the probability of event of seeing symbol $c$ after previously generated symbol $a=T[i-1]$. The first symbol of the chain is sampled according to the zero-order model.  \n",
    "The first-order model can naturally be extended to contexts of length $k$, with $T[i]$ depending on $T[i-k..i-1]$. Then the first $k$ symbols of the chain are sampled according to the zero-order model.  The following assignments develop the routines to work with the *higher-order Markov chains*. \n",
    "In what follows, a $k$-mer is a substring $T[i..i+k-1]$ of the sequence at an arbitrary position. \n",
    "\n",
    "10. Write function ```context_list``` that given an input DNA sequence $T$ associates to each $k$-mer $W$ the concatenation of all symbols $c$ that appear after context $W$ in $T$, that is, $T[i..i+k]=Wc$. For example, <span style=\"color:red; font:courier;\">GA</span> is associated to <span style=\"color:blue; font: courier;\">TCT</span> in $T$=<span style=\"font: courier;\">AT<span style=\"color:red;\">GA</span><span style=\"color:blue;\">T</span>ATCATC<span style=\"color:red;\">GA</span><span style=\"color:blue;\">C</span><span style=\"color:red;\">GA</span><span style=\"color:blue;\">T</span>GTAG</span>, when $k=2$."
   ]
  },
  {
   "cell_type": "code",
   "execution_count": 142,
   "metadata": {
    "ExecuteTime": {
     "end_time": "2019-07-08T22:04:23.168108Z",
     "start_time": "2019-07-08T22:04:23.162648Z"
    }
   },
   "outputs": [
    {
     "name": "stdout",
     "output_type": "stream",
     "text": [
      "{'AT': 'GACCC', 'TG': 'A', 'GA': 'TCT', 'TA': 'TG', 'TC': 'AGT', 'CA': 'T', 'CG': 'AA', 'AC': 'G', 'CT': 'A'}\n"
     ]
    }
   ],
   "source": [
    "def context_list(s, k):\n",
    "    context_dict = {}\n",
    "    for i, _ in enumerate(s):\n",
    "        \n",
    "        if i + k >= len(s):\n",
    "            break\n",
    "        kmer = s[i: i + k]\n",
    "        \n",
    "        idx_list, position = [], 0\n",
    "        while position < len(s):\n",
    "            idx = s.find(kmer, position)\n",
    "            if idx == -1:\n",
    "                break\n",
    "            idx_list.append(idx)\n",
    "            idx += 1\n",
    "            position = idx\n",
    "            \n",
    "        # print(kmer, \"\\n\", idx_list)\n",
    "        c_list = []\n",
    "        for x in idx_list:\n",
    "            if x + k < len(s):\n",
    "                c_list.append(s[x + k])\n",
    "        c = \"\".join(c_list)\n",
    "        \n",
    "        context_dict[kmer] = c\n",
    "        \n",
    "    return context_dict\n",
    "    \n",
    "if __name__ == '__main__':\n",
    "    k = 2\n",
    "    s = \"ATGATATCATCGACGATCTAG\"\n",
    "    d = context_list(s, k)\n",
    "    print(d)"
   ]
  },
  {
   "cell_type": "markdown",
   "metadata": {},
   "source": [
    "### Idea of solution\n",
    "\n",
    "A dictionary to be returned *context_dict* is initialised when the function is called, followed by a loop over each nucleotide in the given DNA sequence. A k-mer of length \"k\" (two in this case) is created starting from the current position, therefore prior to this step a conditional statement is run to check if a valid k-mer could be created. If the length of the remainder of the DNA sequence is too short, the loop is broken. Next, I find the indices of all occurences of the k-mer in the DNA sequence. This is done by utilising the *str.find()* method, which takes a position to start searching for a substring in a string as a variable. The position variable is set to one plus the index where the last k-mer was found so that all k-mer could be found. A conditional statements were implemented to ensure the halting of the while loop when no more occurence is detected. The nucleotide symbol corresponding to each index was then retrieved in the next loop and appended together."
   ]
  },
  {
   "cell_type": "markdown",
   "metadata": {},
   "source": [
    "### Discussion\n",
    "\n",
    "The *context_list()* function managed to return the concatenation of all nucleotides that appear after context or k-mer of length k (two in this example case) in a given input DNA sequence \"ATGATATCATCGACGATCTAG\" successfully. All occurences of the k-mers and nucleotides after k-mers have been captured exactly, thus the function works satisfactorily."
   ]
  },
  {
   "cell_type": "markdown",
   "metadata": {},
   "source": [
    "11. With the above solution, write function ```context_probabilities``` to count the frequencies of symbols in each context and convert these frequencies into probabilities. Run `context_probabilities` with $T=$ `ATGATATCATCGACGATGTAG` and $k$ values 0 and 2."
   ]
  },
  {
   "cell_type": "code",
   "execution_count": 143,
   "metadata": {
    "ExecuteTime": {
     "end_time": "2019-07-08T22:04:23.218964Z",
     "start_time": "2019-07-08T22:04:23.213773Z"
    }
   },
   "outputs": [
    {
     "name": "stdout",
     "output_type": "stream",
     "text": [
      "{'AT': {'A': 0.2, 'C': 0.4, 'G': 0.4, 'T': 0.0}, 'TG': {'A': 0.5, 'C': 0.0, 'G': 0.0, 'T': 0.5}, 'GA': {'A': 0.0, 'C': 0.3333333333333333, 'G': 0.0, 'T': 0.6666666666666666}, 'TA': {'A': 0.0, 'C': 0.0, 'G': 0.5, 'T': 0.5}, 'TC': {'A': 0.5, 'C': 0.0, 'G': 0.5, 'T': 0.0}, 'CA': {'A': 0.0, 'C': 0.0, 'G': 0.0, 'T': 1.0}, 'CG': {'A': 1.0, 'C': 0.0, 'G': 0.0, 'T': 0.0}, 'AC': {'A': 0.0, 'C': 0.0, 'G': 1.0, 'T': 0.0}, 'GT': {'A': 1.0, 'C': 0.0, 'G': 0.0, 'T': 0.0}}\n"
     ]
    }
   ],
   "source": [
    "def context_probabilities(s, k):\n",
    "    context_dict = context_list(s, k)\n",
    "    context_prob = {}\n",
    "    for context, concat in context_dict.items():\n",
    "        context_prob[context] = {\"A\": 0.0, \"C\": 0.0, \"G\": 0.0, \"T\": 0.0}\n",
    "        for nuc in context_prob[context].keys():\n",
    "            freq = concat.count(nuc)\n",
    "            prob = freq / len(concat)\n",
    "            context_prob[context][nuc] = prob\n",
    "    return context_prob\n",
    "    \n",
    "if __name__ == '__main__':\n",
    "    k = 0\n",
    "    k = 2\n",
    "    s = \"ATGATATCATCGACGATGTAG\"\n",
    "    d = context_probabilities(s, k)\n",
    "    print(d)"
   ]
  },
  {
   "cell_type": "markdown",
   "metadata": {},
   "source": [
    "### Idea of solution\n",
    "\n",
    "The dictionary containing the context after each k-mer is returned using the previously written *context_list()* function. The dictionary to be returned is then initiated by assigning another dictionary containing the four nucleotide base symbols as keys to each of the k-mer. In a loop, for each k-mer, the frequencies of each nucleotide in the context corresponding to the k-mer was counted and turned into probabilities by dividing the frequencies by the length of the context found. The probabilities are then stored in the dictionary and returned."
   ]
  },
  {
   "cell_type": "markdown",
   "metadata": {},
   "source": [
    "### Discussion\n",
    "\n",
    "The function *context_probabilities()* managed to return a dictionary containing the probabilities of finding each nucleotide in the context which occurs after each k-mer. The function was tested with *k* values of zero and two. It is seen that k-mer of length zero returned the whole DNA sequence as the context, which is expected. The function is thus thought to be working satisfactorily."
   ]
  },
  {
   "cell_type": "markdown",
   "metadata": {},
   "source": [
    "12. With the above solution and the function ```random_event``` from the earlier exercise, write class ```MarkovChain```. Its ```generate``` method should generate a random DNA sequence following the original $k$-th order Markov chain probabilities. "
   ]
  },
  {
   "cell_type": "code",
   "execution_count": 144,
   "metadata": {
    "ExecuteTime": {
     "end_time": "2019-07-08T22:04:23.279315Z",
     "start_time": "2019-07-08T22:04:23.253983Z"
    }
   },
   "outputs": [
    {
     "name": "stdout",
     "output_type": "stream",
     "text": [
      "TGTATGACGA\n"
     ]
    }
   ],
   "source": [
    "class MarkovChain:\n",
    "    \n",
    "    def __init__(self, zeroth, kth, k=2):\n",
    "        self.k = k\n",
    "        self.zeroth = zeroth\n",
    "        self.kth = kth\n",
    "        \n",
    "    def generate(self, n, seed=None):\n",
    "        seq = \"\"\n",
    "        for i in range(n):\n",
    "            rd.seed(a=seed)\n",
    "            if i < self.k:\n",
    "                nuc = random_event(self.zeroth)\n",
    "            else:\n",
    "                kmer = seq[i - self.k: i]\n",
    "                nuc = random_event(self.kth[kmer])\n",
    "            seq += nuc\n",
    "            # print(seq)\n",
    "        return seq\n",
    "\n",
    "if __name__ == '__main__':\n",
    "    zeroth = {'A': 0.2, 'C': 0.19, 'T': 0.31, 'G': 0.3}\n",
    "    kth = {'GT': {'A': 1.0, 'C': 0.0, 'T': 0.0, 'G': 0.0},\n",
    "           'CA': {'A': 0.0, 'C': 0.0, 'T': 1.0, 'G': 0.0},\n",
    "           'TC': {'A': 0.5, 'C': 0.0, 'T': 0.0, 'G': 0.5},\n",
    "           'GA': {'A': 0.0, 'C': 0.3333333333333333, 'T': 0.6666666666666666, 'G': 0.0},\n",
    "           'TG': {'A': 0.5, 'C': 0.0, 'T': 0.5, 'G': 0.0},\n",
    "           'AT': {'A': 0.2, 'C': 0.4, 'T': 0.0, 'G': 0.4},\n",
    "           'TA': {'A': 0.0, 'C': 0.0, 'T': 0.5, 'G': 0.5},\n",
    "           'AC': {'A': 0.0, 'C': 0.0, 'T': 0.0, 'G': 1.0},\n",
    "           'CG': {'A': 1.0, 'C': 0.0, 'T': 0.0, 'G': 0.0}}\n",
    "    n = 10    \n",
    "    seed = 0\n",
    "    mc = MarkovChain(zeroth, kth)\n",
    "    print(mc.generate(n, seed))"
   ]
  },
  {
   "cell_type": "markdown",
   "metadata": {},
   "source": [
    "### Idea of solution\n",
    "\n",
    "I created a loop that runs for *n* (specified as ten in the example) times, where for the first *k* times (default to two in the __init__ method of the class), the nucleotide is sampled randomly based on the zeroth Markov probabilities. After *k* loops, a k-mer would finally be obtained and thus could be used to generate the following nucleotides using the *k*-th Markov probabilities. The nucleotides generated from each calling of the *random_event()* function are concatenated at the end of each loop and returned in the end. For the sake of reproducibility, the seed could be optionally set to be an input value (zero in this case)."
   ]
  },
  {
   "cell_type": "markdown",
   "metadata": {},
   "source": [
    "### Discussion\n",
    "\n",
    "The *generate()* method of class *MarkovChain* only managed to generate DNA sequences when the combination of the first two nucleotides as generated by the zeroth order Markov probabilities overlaps with the k-mers stored within the dictionary of the kth order Markov probabilities. This is however expected. Therefore, the codes are thought to be working satisfactorily."
   ]
  },
  {
   "cell_type": "markdown",
   "metadata": {},
   "source": [
    "If you have survived so far without problems, please run your program a few more times with different inputs. At some point you should get a lookup error in your hash-table! The reason for this is not your code, but the way we defined the model: Some $k$-mers may not be among the training data (input sequence $T$), but such can be generated as the first $k$-mer that is generated using the zero-order model.  \n",
    "\n",
    "A general approach to fixing such issues with incomplete training data is to use *pseudo counts*. That is, all imaginable events are initialized to frequency count 1.   \n",
    "\n",
    "13. Write a new solution `context_pseudo_probabilities` based on the solution to problem 11. But this time use pseudo counts in order to obtain a $k$-th order Markov chain that can assign a probability for any DNA sequence. You may use the standard library function `itertools.product` to iterate over all $k$-mer of given length (`product(\"ACGT\", repeat=k)`)."
   ]
  },
  {
   "cell_type": "code",
   "execution_count": 145,
   "metadata": {
    "ExecuteTime": {
     "end_time": "2019-07-08T22:04:23.303566Z",
     "start_time": "2019-07-08T22:04:23.296028Z"
    }
   },
   "outputs": [
    {
     "name": "stdout",
     "output_type": "stream",
     "text": [
      "zeroth: {'A': 0.32, 'C': 0.16, 'G': 0.24, 'T': 0.28}\n",
      "AT: {'A': 0.2222222222222222, 'C': 0.3333333333333333, 'G': 0.3333333333333333, 'T': 0.1111111111111111}\n",
      "TG: {'A': 0.3333333333333333, 'C': 0.16666666666666666, 'G': 0.16666666666666666, 'T': 0.3333333333333333}\n",
      "GA: {'A': 0.14285714285714285, 'C': 0.2857142857142857, 'G': 0.14285714285714285, 'T': 0.42857142857142855}\n",
      "TA: {'A': 0.16666666666666666, 'C': 0.16666666666666666, 'G': 0.3333333333333333, 'T': 0.3333333333333333}\n",
      "TC: {'A': 0.3333333333333333, 'C': 0.16666666666666666, 'G': 0.3333333333333333, 'T': 0.16666666666666666}\n",
      "CA: {'A': 0.2, 'C': 0.2, 'G': 0.2, 'T': 0.4}\n",
      "CG: {'A': 0.5, 'C': 0.16666666666666666, 'G': 0.16666666666666666, 'T': 0.16666666666666666}\n",
      "AC: {'A': 0.2, 'C': 0.2, 'G': 0.4, 'T': 0.2}\n",
      "GT: {'A': 0.4, 'C': 0.2, 'G': 0.2, 'T': 0.2}\n",
      "AA: {'A': 0.25, 'C': 0.25, 'G': 0.25, 'T': 0.25}\n",
      "AG: {'A': 0.25, 'C': 0.25, 'G': 0.25, 'T': 0.25}\n",
      "CC: {'A': 0.25, 'C': 0.25, 'G': 0.25, 'T': 0.25}\n",
      "CT: {'A': 0.25, 'C': 0.25, 'G': 0.25, 'T': 0.25}\n",
      "GC: {'A': 0.25, 'C': 0.25, 'G': 0.25, 'T': 0.25}\n",
      "GG: {'A': 0.25, 'C': 0.25, 'G': 0.25, 'T': 0.25}\n",
      "TT: {'A': 0.25, 'C': 0.25, 'G': 0.25, 'T': 0.25}\n",
      "\n",
      " AGATGTACGCTAAGCCACTG\n"
     ]
    }
   ],
   "source": [
    "def context_pseudo_probabilities(s, k):\n",
    "    prod = product(\"ACGT\", repeat=k)\n",
    "    # print(list(prod))\n",
    "    context_dict = context_list(s, k)\n",
    "    for tup in list(prod):\n",
    "        kmer= \"\"\n",
    "        for i in range(k):\n",
    "            kmer += str(tup[i])\n",
    "        # print(kmer)\n",
    "        if kmer in context_dict.keys():\n",
    "            context_dict[kmer] += \"ACGT\"\n",
    "        else:\n",
    "            context_dict[kmer] = \"ACGT\"\n",
    "    # print(context_dict)\n",
    "    context_prob = {}\n",
    "    for context, concat in context_dict.items():\n",
    "        context_prob[context] = {\"A\": 0.0, \"C\": 0.0, \"G\": 0.0, \"T\": 0.0}\n",
    "        for nuc in context_prob[context].keys():\n",
    "            freq = concat.count(nuc)\n",
    "            prob = freq / len(concat)\n",
    "            context_prob[context][nuc] = prob\n",
    "    return context_prob\n",
    "    \n",
    "if __name__ == '__main__':\n",
    "    k = 2\n",
    "    s = \"ATGATATCATCGACGATGTAG\"\n",
    "    kth = context_pseudo_probabilities(s, k)\n",
    "    zeroth = context_pseudo_probabilities(s, 0)[\"\"]\n",
    "    print(f\"zeroth: {zeroth}\")\n",
    "    print(\"\\n\".join(f\"{k}: {dict(v)}\" for k, v in kth.items()))\n",
    "    print(\"\\n\", MarkovChain(zeroth, kth, k).generate(20))"
   ]
  },
  {
   "cell_type": "markdown",
   "metadata": {},
   "source": [
    "### Idea of solution\n",
    "\n",
    "The solution is largely similar to exercise 11, except that the dictionary returned from the *context_list()* function is updated with the missing combinations of k-mers. By setting the context of missing k-mers to be \"ACGT\", and adding \"ACGT\" to the context of the exisitng k-mers, pseudo counts are added to the Markov probability dictionary. The standard function *product* was used as suggested to generate all possible combinations of k-mers with length *k*."
   ]
  },
  {
   "cell_type": "markdown",
   "metadata": {},
   "source": [
    "### Discussion\n",
    "\n",
    "The *context_pseudo_probabilities()* function managed to return a dictionary containing the kth order Markov probabilities. It now enables the *MarkovChain* class objects to generate sequences with any combination of nucleotides as all possible k-mers are now included in the output dictionary."
   ]
  },
  {
   "cell_type": "markdown",
   "metadata": {},
   "source": [
    "14. Write class ```MarkovProb``` that given the $k$-th order Markov chain developed above to the constructor, its method ```probability``` computes the probability of a given input DNA sequence."
   ]
  },
  {
   "cell_type": "code",
   "execution_count": 146,
   "metadata": {
    "ExecuteTime": {
     "end_time": "2019-07-08T22:04:23.346222Z",
     "start_time": "2019-07-08T22:04:23.330779Z"
    }
   },
   "outputs": [
    {
     "name": "stdout",
     "output_type": "stream",
     "text": [
      "Probability of sequence ATGATATCATCGACGATGTAG is 2.831270190340017e-10\n"
     ]
    }
   ],
   "source": [
    "class MarkovProb:\n",
    "    def __init__(self, k, zeroth, kth):\n",
    "        self.k = k\n",
    "        self.zeroth = zeroth\n",
    "        self.kth = kth\n",
    "        \n",
    "    def probability(self, s):\n",
    "        prob = 1.0\n",
    "        for i in range(len(s)):\n",
    "            if i < self.k:\n",
    "                prob *= self.zeroth[s[i]]\n",
    "            else:\n",
    "                kmer = s[i - self.k: i]\n",
    "                prob *= self.kth[kmer][s[i]]\n",
    "        return prob\n",
    "\n",
    "    \n",
    "if __name__ == '__main__':\n",
    "    k = 2\n",
    "    kth = context_pseudo_probabilities(\"ATGATATCATCGACGATGTAG\", k)\n",
    "    zeroth = context_pseudo_probabilities(\"ATGATATCATCGACGATGTAG\", 0)[\"\"]\n",
    "    mc = MarkovProb(2, zeroth, kth)\n",
    "    s=\"ATGATATCATCGACGATGTAG\"\n",
    "    print(f\"Probability of sequence {s} is {mc.probability(s)}\")"
   ]
  },
  {
   "cell_type": "markdown",
   "metadata": {},
   "source": [
    "### Idea of solution\n",
    "\n",
    "The method *probability()* follows the structure of the *generate()* method of the class *MarkovChain*. By looping through the input DNA sequence, I obtained the probability of the first *k* nucleotides from the zeroth Markov probabilities, and the rest of the nucleotides from the *k*-th Markov probabilities based on the previous k-mers."
   ]
  },
  {
   "cell_type": "markdown",
   "metadata": {},
   "source": [
    "### Discussion\n",
    "\n",
    "The *probability()* method managed to compute and return the probability of sampling a given input sequence. For DNA sequence \"ATGATATCATCGACGATGTAG\", the probability calculated was 2.831270190340017e-10."
   ]
  },
  {
   "cell_type": "markdown",
   "metadata": {},
   "source": [
    "With the last assignment you might end up in trouble with precision, as multiplying many small probabilities gives a really small number in the end. There is an easy fix by using so-called log-transform. \n",
    "Consider computation of $P=s_1 s_2 \\cdots s_n$, where $0\\leq s_i\\leq 1$ for each $i$. Taking logarithm in base 2 from both sides gives $\\log _2 P= \\log _2 (s_1 s_2 \\cdots s_n)=\\log_2 s_1 + \\log_2 s_2 + \\cdots \\log s_n= \\sum_{i=1}^n \\log s_i$, with repeated application of the property that the logarithm of a multiplication of two numbers is the sum of logarithms of the two numbers taken separately. The results is abbreviated as log-probability.\n",
    "\n",
    "15. Write class ```MarkovLog``` that given the $k$-th order Markov chain developed above to the constructor, its method ```log_probability``` computes the log-probability of a given input DNA sequence. Run your program with $T=$ `ATGATATCATCGACGATGTAG` and $k=2$."
   ]
  },
  {
   "cell_type": "code",
   "execution_count": 147,
   "metadata": {
    "ExecuteTime": {
     "end_time": "2019-07-08T22:04:23.390453Z",
     "start_time": "2019-07-08T22:04:23.379760Z"
    }
   },
   "outputs": [
    {
     "name": "stdout",
     "output_type": "stream",
     "text": [
      "Log probability of sequence ATGATATCATCGACGATGTAG is -31.717831515538315\n"
     ]
    }
   ],
   "source": [
    "class MarkovLog(object):\n",
    "\n",
    "    def __init__(self, k, zeroth, kth):\n",
    "        self.k = k\n",
    "        self.zeroth = zeroth\n",
    "        self.kth = kth\n",
    "        \n",
    "    def log_probability(self, s):\n",
    "        log_prob = 0.0\n",
    "        for i in range(len(s)):\n",
    "            if i < self.k:\n",
    "                log_prob += math.log(self.zeroth[s[i]], 2)\n",
    "            else:\n",
    "                kmer = s[i - self.k: i]\n",
    "                log_prob += math.log(self.kth[kmer][s[i]], 2)\n",
    "        return log_prob\n",
    "    \n",
    "if __name__ == '__main__':\n",
    "    k = 2\n",
    "    kth = context_pseudo_probabilities(\"ATGATATCATCGACGATGTAG\", k)\n",
    "    zeroth = context_pseudo_probabilities(\"ATGATATCATCGACGATGTAG\", 0)[\"\"]\n",
    "    mc = MarkovLog(2, zeroth, kth)\n",
    "    s=\"ATGATATCATCGACGATGTAG\"\n",
    "    print(f\"Log probability of sequence {s} is {mc.log_probability(s)}\")"
   ]
  },
  {
   "cell_type": "markdown",
   "metadata": {},
   "source": [
    "### Idea of solution\n",
    "\n",
    "The solution is largely similar to exercise 14, except that the probability is transformed logarithmically and added instead of multiplied."
   ]
  },
  {
   "cell_type": "markdown",
   "metadata": {},
   "source": [
    "### Discussion\n",
    "\n",
    "The *log_probability()* method managed to compute and return the log-probability of sampling a given input sequence. For DNA sequence \"ATGATATCATCGACGATGTAG\", the log-probability calculated was -31.717831515538315."
   ]
  },
  {
   "cell_type": "markdown",
   "metadata": {},
   "source": [
    "Finally, if you try to use the code so far for very large inputs, you might observe that the concatenation of symbols following a context occupy considerable amount of space. This is unnecessary, as we only need the frequencies. \n",
    "\n",
    "16. Optimize the space requirement of your code from exercise 13 for the $k$-th order Markov chain by replacing the concatenations by direct computations of the frequencies. Implement this as the\n",
    "  ```better_context_probabilities``` function."
   ]
  },
  {
   "cell_type": "code",
   "execution_count": 148,
   "metadata": {
    "ExecuteTime": {
     "end_time": "2019-07-08T22:04:23.422302Z",
     "start_time": "2019-07-08T22:04:23.416330Z"
    }
   },
   "outputs": [
    {
     "name": "stdout",
     "output_type": "stream",
     "text": [
      "AA: {'A': 0.25, 'C': 0.25, 'G': 0.25, 'T': 0.25}\n",
      "AC: {'A': 0.2, 'C': 0.2, 'G': 0.4, 'T': 0.2}\n",
      "AG: {'A': 0.25, 'C': 0.25, 'G': 0.25, 'T': 0.25}\n",
      "AT: {'A': 0.2222222222222222, 'C': 0.3333333333333333, 'G': 0.3333333333333333, 'T': 0.1111111111111111}\n",
      "CA: {'A': 0.2, 'C': 0.2, 'G': 0.2, 'T': 0.4}\n",
      "CC: {'A': 0.25, 'C': 0.25, 'G': 0.25, 'T': 0.25}\n",
      "CG: {'A': 0.5, 'C': 0.16666666666666666, 'G': 0.16666666666666666, 'T': 0.16666666666666666}\n",
      "CT: {'A': 0.25, 'C': 0.25, 'G': 0.25, 'T': 0.25}\n",
      "GA: {'A': 0.14285714285714285, 'C': 0.2857142857142857, 'G': 0.14285714285714285, 'T': 0.42857142857142855}\n",
      "GC: {'A': 0.25, 'C': 0.25, 'G': 0.25, 'T': 0.25}\n",
      "GG: {'A': 0.25, 'C': 0.25, 'G': 0.25, 'T': 0.25}\n",
      "GT: {'A': 0.4, 'C': 0.2, 'G': 0.2, 'T': 0.2}\n",
      "TA: {'A': 0.16666666666666666, 'C': 0.16666666666666666, 'G': 0.3333333333333333, 'T': 0.3333333333333333}\n",
      "TC: {'A': 0.3333333333333333, 'C': 0.16666666666666666, 'G': 0.3333333333333333, 'T': 0.16666666666666666}\n",
      "TG: {'A': 0.3333333333333333, 'C': 0.16666666666666666, 'G': 0.16666666666666666, 'T': 0.3333333333333333}\n",
      "TT: {'A': 0.25, 'C': 0.25, 'G': 0.25, 'T': 0.25}\n"
     ]
    }
   ],
   "source": [
    "def better_context_probabilities(s, k):\n",
    "    context_freq, context_prob = {}, {}\n",
    "    prod = list(product(\"ACGT\", repeat=k))  # List of all possible combinations of kmer\n",
    "    for tup in prod:  # For each kmer\n",
    "        # Get the current kmer\n",
    "        kmer= \"\"\n",
    "        for i in range(k):\n",
    "            kmer += str(tup[i]) \n",
    "        # print(kmer)\n",
    "        \n",
    "        # Find all occurences of the kmer\n",
    "        idx_list, position = [], 0\n",
    "        while position < len(s):\n",
    "            idx = s.find(kmer, position)\n",
    "            if idx == -1:\n",
    "                break\n",
    "            idx_list.append(idx)\n",
    "            idx += 1\n",
    "            position = idx\n",
    "        # print(idx_list)\n",
    "        \n",
    "        # Obtain the context for the kmer\n",
    "        c_list = []\n",
    "        for x in idx_list:\n",
    "            if x + k < len(s):\n",
    "                c_list.append(s[x + k])\n",
    "        c = \"\".join(c_list)\n",
    "        # print(c)\n",
    "        \n",
    "        # Obtain the frequency of each nucleotide in the context for the kmer\n",
    "        context_freq[kmer] = {\"A\": 1, \"C\": 1, \"G\": 1, \"T\": 1}  # Use pseudo counts\n",
    "        for nuc in context_freq[kmer].keys():\n",
    "            freq = c.count(nuc)\n",
    "            context_freq[kmer][nuc] += freq  # Add the counted frequency to the existing count of 1\n",
    "        # print(context_freq)\n",
    "        \n",
    "        # Obtain the probability of each nucleotide in the context for the kmer\n",
    "        context_prob[kmer] = {\"A\": 0.0, \"C\": 0.0, \"G\": 0.0, \"T\": 0.0}\n",
    "        for nuc in context_freq[kmer].keys():\n",
    "            prob = context_freq[kmer][nuc] / sum(context_freq[kmer].values())\n",
    "            context_prob[kmer][nuc] = prob\n",
    "        \n",
    "    return context_prob\n",
    "\n",
    "if __name__ == '__main__':\n",
    "    k = 2\n",
    "    s = \"ATGATATCATCGACGATGTAG\"\n",
    "    d = better_context_probabilities(s, k)\n",
    "    print(\"\\n\".join(f\"{k}: {v}\" for k, v in d.items()))"
   ]
  },
  {
   "cell_type": "markdown",
   "metadata": {},
   "source": [
    "### Idea of solution\n",
    "\n",
    "I broke the codes into five parts in a loop over all possible combinations of the k-mers. Firstly, I compute the current k-mer by concatenating the symbols returned by the *itertools.product()* function. Next, I find the indices where the k-mer are found in the given DNA sequence. Obviously, for the k-mers that are not found in the sequence, an empty list is returned. I then extract the context of the k-mer without storing them in a dictionary (unlike the solution in exercise 13). The frequency of each of the nucleotides \"ACGT\" in the context is then calculated and added onto the pseudo counts of one. Lastly, the probability of each nucleotide is computed and stored in the dictionary to be returned."
   ]
  },
  {
   "cell_type": "markdown",
   "metadata": {},
   "source": [
    "### Discussion\n",
    "\n",
    "The function *better_context_probabilities()* managed to optimize the space requirement of the codes from exercise 13 for the *k*-th order Markov chain. The concatenation of the symbols following the context of each k-mer was replaced with direct computations of the frequencies."
   ]
  },
  {
   "cell_type": "markdown",
   "metadata": {},
   "source": [
    "While the earlier approach of explicit concatenation of symbols following a context suffered from inefficient use of space, it does have a benefit of giving another much simpler strategy to sample from the distribution: \n",
    "observe that an element of the concatenation taken uniformly randomly is sampled exactly with the correct probability. \n",
    "\n",
    "17. Revisit the solution 12 and modify it to directly sample from the concatenation of symbols following a context. The function ```np.random.choice``` may be convenient here. Implement the modified version as the new `SimpleMarkovChain` class."
   ]
  },
  {
   "cell_type": "code",
   "execution_count": 149,
   "metadata": {
    "ExecuteTime": {
     "end_time": "2019-07-08T22:04:23.462556Z",
     "start_time": "2019-07-08T22:04:23.453101Z"
    }
   },
   "outputs": [
    {
     "name": "stdout",
     "output_type": "stream",
     "text": [
      "TTGTTGGGGT\n"
     ]
    }
   ],
   "source": [
    "class SimpleMarkovChain(object):\n",
    "    def __init__(self, s, k):\n",
    "        self.s = s\n",
    "        self.k = k\n",
    "        \n",
    "    def generate(self, n, seed=None):\n",
    "        seq = \"\"\n",
    "        for i in range(n):\n",
    "            np.random.seed(seed)\n",
    "            if i < self.k:\n",
    "                nuc = np.random.choice([\"A\", \"C\", \"G\", \"T\"])\n",
    "            else:\n",
    "                kmer = self.s[i - self.k: i]\n",
    "                idx_list, c_list, position = [], [], 0\n",
    "                while position < len(self.s):\n",
    "                    idx = self.s.find(kmer, position)\n",
    "                    if idx == -1:\n",
    "                        break\n",
    "                    idx_list.append(idx)\n",
    "                    idx += 1\n",
    "                    position = idx\n",
    "                for x in idx_list:\n",
    "                    if x + self.k < len(self.s):\n",
    "                        c_list.append(self.s[x + self.k])\n",
    "                c = \"\".join(c_list)\n",
    "                if c == \"\":\n",
    "                    nuc = np.random.choice([\"A\", \"C\", \"G\", \"T\"])\n",
    "                else:\n",
    "                    nuc = np.random.choice(list(c))\n",
    "            seq += nuc\n",
    "        return seq\n",
    "        \n",
    "if __name__ == '__main__':\n",
    "    k = 2\n",
    "    s = \"ATGATATCATCGACGATGTAG\"\n",
    "    n = 10\n",
    "    seed = 7\n",
    "    mc = SimpleMarkovChain(s, k)\n",
    "    print(mc.generate(n, seed))"
   ]
  },
  {
   "cell_type": "markdown",
   "metadata": {},
   "source": [
    "### Idea of solution\n",
    "\n",
    "The solution removes the usage of the *random_event()* function and replaces it with *np.random.choice()* as suggested. For the first *k* nucleotides, the nucleotides are randomly chosen from a uniform distribution of \"ACGT\". For the rest of the *n* - *k* positions, the k-mer is first identified and all accurences of the k-mer across the given DNA sequence are located. The contexts are then concatenated into a string which is used as the input to the *np.random.choice()* function. This allows an element of the concatenation to be taken uniformly randomly and thus sampled exactly with the correct probability. A conditional statement is used to circumvent the error raised when no context is found for a particular k-mer by simply sampling the nucleotide uniformly randomly."
   ]
  },
  {
   "cell_type": "markdown",
   "metadata": {},
   "source": [
    "### Discussion\n",
    "\n",
    "The *generate()* method of the class *SimpleMarkovChain* directly samples the nucleotides from the concatenation of symbols following a context given a DNA sequence. A DNA sequence of length *n* (ten here) was returned based on uniform random sampling."
   ]
  },
  {
   "cell_type": "markdown",
   "metadata": {},
   "source": [
    "## $k$-mer index\n",
    "\n",
    "Our $k$-th order Markov chain can now be modified to a handy index structure called $k$-mer index. This index structure associates to each $k$-mer its list of occurrence positions in DNA sequence $T$.  Given a query $k$-mer $W$, one can thus easily list all positions $i$ with  $T[i..k-1]=W$.\n",
    "\n",
    "18. Implement function ```kmer_index``` inspired by your earlier code for the $k$-th order Markov chain. Test your program with `ATGATATCATCGACGATGTAG` and $k=2$."
   ]
  },
  {
   "cell_type": "code",
   "execution_count": 150,
   "metadata": {
    "ExecuteTime": {
     "end_time": "2019-07-08T22:04:23.504405Z",
     "start_time": "2019-07-08T22:04:23.494537Z"
    }
   },
   "outputs": [
    {
     "name": "stdout",
     "output_type": "stream",
     "text": [
      "Using string:\n",
      "ATGATATCATCGACGATGTAG of length 21\n",
      "012345678901234567890\n",
      "\n",
      "0-mer index is:\n",
      "{'': [0, 1, 2, 3, 4, 5, 6, 7, 8, 9, 10, 11, 12, 13, 14, 15, 16, 17, 18, 19, 20, 21]}\n"
     ]
    }
   ],
   "source": [
    "def kmer_index(s, k):\n",
    "    kmer_dict = {}\n",
    "    for i in range(k, len(s) + 1):\n",
    "        kmer = s[i - k: i]\n",
    "        # print(kmer)\n",
    "        if kmer in kmer_dict:\n",
    "            continue\n",
    "        idx_list, c_list, position = [], [], 0\n",
    "        while position < len(s):\n",
    "            idx = s.find(kmer, position)\n",
    "            if idx == -1:\n",
    "                break\n",
    "            else:\n",
    "                idx_list.append(idx)\n",
    "                position = idx + 1\n",
    "        if k == 0:\n",
    "            idx_list.append(len(s))\n",
    "        kmer_dict[kmer] = idx_list\n",
    "    return kmer_dict\n",
    "\n",
    "if __name__ == '__main__':\n",
    "    k = 0\n",
    "    s = \"ATGATATCATCGACGATGTAG\"\n",
    "    print(\"Using string:\")\n",
    "    print(s, \"of length\", len(s))\n",
    "    print(\"\".join([str(i%10) for i in range(len(s))]))\n",
    "    print(f\"\\n{k}-mer index is:\")\n",
    "    d=kmer_index(s, k)\n",
    "    print(dict(d))"
   ]
  },
  {
   "cell_type": "markdown",
   "metadata": {},
   "source": [
    "### Idea of solution\n",
    "\n",
    "The solution consists of largely similar machineries as the codes written in previous exercises. I looped through the given DNA sequence starting from the (*k* + 1) th position as no k-mer is found for the first *k* positions. The k-mer is extracted and the indices corresponding to all occurences of the k-mer are stored in a list. The list is then assigned to the dictionary containing the k-mer as keys. A conditional statement is used at the start of the loop to save some time in the cases when a repeating k-mer is identified while another one is used at the end of the loop in the case when *k* is set to zero. This is because the 0-mer technically occurs after the DNA sequence as well, thus should have the index of *len(s)* in its *index_list*."
   ]
  },
  {
   "cell_type": "markdown",
   "metadata": {},
   "source": [
    "### Discussion\n",
    "\n",
    "The *kmer_index()* function managed to return a dictionary containing list of indices corresponding to each k-mer of a given DNA sequence. For the sequence \"ATGATATCATCGACGATGTAG\" of length twenty one, nine unique k-mers were identified and the nineteen positions were reported by the function. This is expected as the first *k* (which is two in this case) positions are ignored as no k-mer could be computed for them. The function is thus working satisfactorily."
   ]
  },
  {
   "cell_type": "markdown",
   "metadata": {},
   "source": [
    "## Comparison of probability distributions\n",
    "\n",
    "Now that we know how to learn probability distributions from data, we might want to compare two such distributions, for example, to test if our programs work as intended. \n",
    "\n",
    "Let $P=\\{p_1,p_2,\\ldots, p_n\\}$ and $Q=\\{q_1,q_2,\\ldots, q_n\\}$ be two probability distributions for the same set of $n$ events. This means $\\sum_{i=1}^n p_i=\\sum_{i=1}^n q_i=1$, $0\\leq p_j \\leq 1$, and $0\\leq q_j \\leq 1$ for each event $j$. \n",
    "\n",
    "*Kullback-Leibler divergence* is a measure $d()$ for the *relative entropy* of $P$ with respect to $Q$ defined as \n",
    "$d(P||Q)=\\sum_{i=1}^n p_i \\log\\frac{p_i}{q_i}$.\n",
    "\n",
    "\n",
    "This measure is always non-negative, and 0 only when $P=Q$. It can be interpreted as the gain of knowing $Q$ to encode $P$. Note that this measure is not symmetric.\n",
    "\n",
    "19. Write function ```kullback_leibler``` to compute $d(P||Q)$. Test your solution by generating a random RNA sequence\n",
    "  encoding the input protein sequence according to the input codon adaptation probabilities.\n",
    "  Then you should learn the codon adaptation probabilities from the RNA sequence you generated.\n",
    "  Then try the same with uniformly random RNA sequences (which don't have to encode any\n",
    "  specific protein sequence). Compute the relative entropies between the\n",
    "  three distribution (original, predicted, uniform) and you should observe a clear difference.\n",
    "  Because $d(P||Q)$ is not symmetric, you can either print both $d(P||Q)$ and $d(Q||P)$,\n",
    "  or their average.\n",
    "  \n",
    "  This problem may be fairly tricky. Only the `kullback_leibler` function is automatically tested. The codon_probabilities is probably a useful helper function. The main guarded section can be completed by filling out the `pass` sections using tooling from previous parts and fixing the *placeholder* lines."
   ]
  },
  {
   "cell_type": "code",
   "execution_count": 188,
   "metadata": {
    "ExecuteTime": {
     "end_time": "2019-07-08T22:04:23.557340Z",
     "start_time": "2019-07-08T22:04:23.539188Z"
    }
   },
   "outputs": [
    {
     "name": "stdout",
     "output_type": "stream",
     "text": [
      "\n",
      "Checking reverse conversion...\n",
      " QKAESG**TVRLRV*VFCYHRTKYDLYCVCHDENCLWAWMINSEGEGYQK*ELSMSPEFMYFLSWMRCFCNG*PEGTTAM**GDV*PIEWANYYFWHQHPYMEETSYYVVDVLEELTTSHATWG*HNCYGEEY*WRSRPEVQ*QDSMKDGACLQSHMCSGPPKYPT*D*EPE*FERKQTYYDDGQQLTRPFKSKNVEYPIMSESQIQWFMAAPKGINYLDILQ*EPRMPYY*NIIYMQTNHGDKYQEWHAMGECQNDRRELHVPHTMWIPLGVSTCQYAV*TIEGVNIN*GMVWTENYA*RKKGCSIHYERAGSW*TGDNAMYWEAYLYIVNQIFWEKEIGGYCV*MQPAHSMFQISRVQECQQMK*IGHMDDL**AKRY*WHETYCWFSDVLSPGFKFVQSTIILLRYIDWFIEWFGHLHQGYRDGEQ*YI**SKFTHDRCTWLGKKFYLYYMG*SNFCKLINKRGASKDSHDEWFKCDCHCF*HWCYKHQFEDC*EVFM*RSHDGLHKWRKPKGQRQWNFGPIECVILMCWGRIWCKSASTRSRFTSYPAKTEMIGLKGVL*N*H*RQPQTHH*QRHSLCWPFSWTQSAKDEMKVNTAERMFVLCYIH*FLIRIDIVWTKTKS*ICVEIHQFITRYLGFCNMITFCQGNQFYRGMIPHNSVCHMWHHKYFKTDKGHEAAQYMYIRQFPFNPMSWGAFPFMCRRWSEQW*WQLWGTQAAWYDPT*RMHDKMPKPG*MDYITHYECCFVIMLFSFPGYFELQV*MAWQGNWETKTLHHPHWRRLEHS*LQMAVYRLQQATGNRYYKKYNQKLPTPRMWHQFKNKHA*WTVAVFKFVRMRNEQQITPYDHPHRPPMTDRKMQACRNGCLTSR*YTNGA**LRHNYNCEKGM*TCPSVHNAYTPTFIWDGPCNHGNFQQ*TMPCALMKMEMDFWSKAYRHSEKYAIHGWPLRNQQGVLI*VYC*YDI*EVYD*EWMLGNHHEHTLAYM*NVTGYEAGKLDEPQAFCHMCQGSLLLQYLHTRQIAIIIINNCYFSDTLLRLNLWWTGIEYLAWVPSNYGYNQCSQEMFNDHRWIYDSPANQTTT*DIFGWWCIMVETFFIHGLQLDIIETVNMNKFTRKPGEYIHAMQQFIKPDRANQATDIQDFELNTRIPQ*HYSAQVSWLRNADMCGQDDEMSLFGSKKWVNMN*HFEQMAKLT*KVHMDMHIPSSCYIRATMWRQSSLPLH*VVLIAVLFMVICIMWVE*DLTRAAETAIIMQLCSIWYVTKNKWKWFQHT*NMDDTGDRSSFCMHQAY*TDKIWFLQIVDMP*WA*LRHGYQLCKCLSGQFFQCPHQHDTPDPMWWTCLWYGVTFMDYKCV*KLAYVHFESDSDWDN*FEGAPRNYAFQSQCNRYLYNPWRKGDNKEWVSFVRCL*HCYTERTIQH*ERENCKGR*HPRD*LWSKNMICPQTPKKFHPSFCLRRQGGWPATYQFKTTTAGTAI*SCTM*MWQLFC*MIHKPLCWEYWDQVIACNLIGYCRCMCFKHIQKNQYCMHWRFTFSWSKKTLEGIEVTRE*FESYSLERDRGTQKQDPSCTCNSQGISIFRPQTNDHRAEYVRKYS*QVVVIKQIMVALHDMPE*TQQMTSPQEEACCND*KLLRNGYMWYVNVMVVKCWGRGRIDANKEYYGWWGHTMYIVKDVGD*IWYIR*NTNSFEGLTTKYHMKNMRGIHWLQRFTNDDW*ENRPRERQEEEHPKWEQYLDYMEIDWAPFAGQQRNFYHIKAMR*VWYILWFADGTT*NPEK*KVTM*CAFCHEFWSFPEYMMAHATYTKLSKLRSQFTDPRHIKFWYW*GCYIQRKLYVFGLVINQLNPYDCMQFRFICF*SPSNEAQRGNERLKH*SPFPRS*MDQDV**FT*DHNHTTNIGKNDWGGHIC*DWSFEWKFTPITRHRFWHPSDDMHGHETSKKSCFWEEPYHPSAHLCHNEFCWHES*LDQHWAGQIEVRPP*V*E*KGFN*NR*PYFNCPHPIAQPTGYEDFHQWAMSNELLTVWKHCPWYCQ*NEYDGLGREHWFG*VFHHVRSKIRAQDFCMLDSRSVQPIHRYGGIEWDF*CYGYEPGCMICYPTVPQRAFDMQI*D*KDNMNFQGLHEWLKMS*ILISEWKMNEHR*WGMMSDDG*KI*FNVTGWCAPLY*QHWWI*MHIKNCSMNSYIVLYTINGIFMQEQIWVQLAW*NFMDRDMHDTHRMGRHNEHVESP*GYMPENDD*FNLSE*QCFFCYMNVCSNY*LI*SGEGICAWVVTYNGMYCRWMICFSFAVNHLSAVKGYGTYCPYCCWAQFCKVIY*WRNESCDFIMLGCMCLLPWILCFYTSAYDMIQVI*CCQHGWPGEMTKHTTHDFEHAMNCGSHVCWIRHTAHTR*MGFKTNLILFMQEISIWCFQ*MTMF*PFRFMLKKIS*LSEFRKCVKLEWSPHYC*FPCG*KLFFPTQEQVQI*GQFYQHDTWNGPEPESTAHDRYQIMSLQIVDQEFPKLY**GKIKIESKWHVMFEGSEVHWYHLLTHP*VYAGHFHQFR*NVEAWWQQWCTAQALRCPT*WCQGREWGCVSMYSDLQEINMASCFQTRSW*NRPGMEWYYGHNNNCQKKRTVAQDAAHDKNY*MGWAYNMCWIQKEMIQCMSNMLRLMCIGVHDIHSFLV*AFTFNHTDSHWDKEPHQHQQRMWMCRFK*EVVTFSAEERRHRWSQEKSDCPYGNQTFKTFQQDTHKNYMSIQYMNDEVMGVPYAAIYQPCVTFIAYVWIEKNGMRDSANHYNNVVHPFHLM*RP*HQETLFDFCEPF*THYKHHAD*LDGSSALLNHDLHHRETWRFGQREV*CTNPVNL*NQNLDWMCYVECRWQANLEII*DCDPC*AAEAELEWRFPHWMAR*TTEYAHEGNESMSWVDRTPEKWWGEYHYCLINPRMTPGYPRIH*HEQYFLCMLMRWCQALMWQIWSTTHAMERYIKTPNEFQW**VRKCANEMKKGDESFFFG*KKIHAFSCWPEDCYIEQVEIANPGA*NMHESHPPWGWDQQNDDAHKHWSH*VWRFKKWTCFYDCWCAIMHETPEDLVFWYMTPRPRVPPTLEHVYGWDEAHFEQQQ*VYVRHPPSTMEDQNASFWNCVF*SY*VWESGSPCITISNDKVTMKLYEFLHNAMGS*CQDHS*GDC*NRTHMIEFVGLKHYESARWAETQGPCPAAYSQIQRQTPCNPPKWKNKWALEYCIIW*TNMTHSHMGEAENLMTINCRTVWLDIFSAPDL*EE**EVCQELARFLDNRQGYTMWFDSELRYYPDIQKCNMSKWNNQWFKMAWNGNESQKADCQDHESTCSLPF*DHPVKHSF*CTELDSDIHNNANNALA*WKSRVFHHFWAVYC*NFNQERY*AYLCFCEWKCSIPMLSCYIWECDYRCSFF*EEKNKADHDKELQVQWMMLTAD*RFVHS*GMRACVVCPKNPRTHGIID*DMKFYQR*ARSTNLAYVN*RHLGDKEYK*DYCVSSTALLEMAFHMHRIIADSFVAETEQWREEYAHAARLNLCECYCIPGLFYGEREWGWPSDDTPEYTIYKNAYFM*QLRHFHENVCWSCKGPDKMFCCHHDYMQASQENYKKIA*YLVF**QTRKFHKKAWQKAYTEYYWVMNALKWDDCQSYPDPHH*CAAQN*MAQNC*DNIVVTSWNDNEMNHVSICADSVFKGVHKVRFH*ID*DFS*PKDFWLCTPQHVFWMARTDERAWYQNECTV*SIITEVQMRSYNCWNRSPARAYCEIMDMLDTIFCV*LITYFWQTQHMMQSRPMEAD*ITVEDMESNAACTCRMYNDNQINMDQLACWRHVVMMDQRELWQKRFECFPVGTNTRHPLFC*CHTATPSTYLSHKFCYFWSAVSLIL*CMVIIPDTWN*Y*AFEIMM*Q*AFLTYWNNWTYR*HGTHFQALFKSNITACVVPSDSPMMARSGQYKDCPSRPAK*HL*RAHTNRETNWARFPGLNTVKYAIKGF*HEGVIKTYHHQFQWQLTTEKIH*EQRTDGDYMPCVIGK*SAY*GCWRKHSEK*DSQWIEDKNPLNFWWSSLRPWD*HPEFWVRWLPPEPHEDNIDQQQ*DDHNGHMHSVTWWSFFCKSGQGNNTDPWPRRNCFVYPSAPYQDISSNCSNAFSM*PIAEVVSWHIVLASTTFQWYRLH*LQMQNWV*LVGYW*NTCCWVGDH*GPESMW*GFQCTKSWERNGWEANQHRSMENIFGITKDTKE**FR*PYF**GHALMNQFHISTES*LQST**GFHFFIVIWSFRHNCRNTRWHKWCADMGVKLMGKILYDFAPYYQVWQ*MREEFADQ*IHMEVQQQCNQLDGDDMVWDEAPVVVYLYLRTGPNNRENFWGANANQICHMASIYQG*HMAVAKQAELTDFAAQAIHWYRIEGFGRNNTRYSMGNFVFTEWGWPSEGHWYSISKHKSKSQSMRKSDCQGYGHIKSLGEVAMAKLRTYLEVWVTGKQIQSMVHTRKWGQFHKEFFSPVHNRVIPCRIHLQELRCGQRGYGEYVIWCGYFVTANFEAAIWLKTKGYLYRENG*CLEGNGPSYAKEKLGPR*ADCYMIRFRHHIPWFWKINQNAGDGSKDNAEGT*RPEVHHYFEQSYPQCFTRGIDLR*RINIAYPNMHYFVMASTRWPYLCQMNDCHYGSICPIHAWFMYFSTSSNYADLTHRNSKGWDCSSWSYMYYLECTCCAYCTYKDNLRSWHPPHAHMMA***CNDNHHYYEYYQ*KRKDVLLCGSFPRPPEIQNYGTNNRHMQQQMWVSWRHPIYYKRVIGVRYWSNFHREMNSNDHFKGGREDRRLFAKAMWQSEKSYWRFESSPTKESIT*QSPQYSSNE*MNDWAYTGPEEEKQQVRYYDACSELMVISWHDRQGNHNNFFEILGYNYMWDIQVFMQMQWWNMWRGWD*DLSFFMTSSIINRVQSHC*KIHSYPMWKSMVDSVTGGY**VTFQVL*RWPTMFWFKSSLDYIIHGPKHPDWFGSTQHFNMPWPEKGCCVCIKH*RICFRQWDT**HPWECK*H*GVPCWYISVPLPGRAETHMNLDGCRNYLMRMGQPMPGCSSK*EHVTMNAFNGYWWVKWFCH*LFICELYEN*GT*KQVPWGNTTIHMRSYKHFATRWETTENMI**AQEDHDCFHWPQTKMKKICPPKV*QLSTEMPKPD*WESPPHFWPPGGA*YFLERNTCRVHHQCEHFHSMCEPQRKEYCA*KV*FPNYSF*VKFAPLRD*EMYK**LCKA*IVKTMP*NSPHDNRCEHTQK*YFTFANKCGPFPCWFLPWIWDWWWECGGRSYERVGKHNWWWKHNEDGGKRYNPLSKYQV*NRRPPIHFEGTFEAGVCHRCYFSMATDECLYQQRTMPHFVVKRQFCGRHLETQTTTANWNIKHMVWESSRNQSGRFEEFEDEVCTDWNSWHWTTNQVDVQEVMDYYIAVRHWKFLHE*SV*RVAIMNC*WEPCDLQYPG*LAWCDRDWHVLMHLYEGLGSHVRKRNIMSKCSRCHHRIKSQWILLTTAN*LSCQITHR*AEKGHSQHIF*YSQ*NHGM*PKAIAHAKRLYGMC*YDFFECSRYLELWPPSRKTDLPMSINNVCKWQICSKVSEMNKENMGPARGYSDKWQQQVAC*AMFMCKC*GWSSFEY*TEWVWK*TKDINASEYDKGTMMFYIHR*PYTSNERV*WMEVRLKEGFRNTDTGITAAPRADMFTVRPLDACGIRKRFGYWMDFCCWASQHCFLWAMGHNKYHHFYFEDLFHHGMDHAWCAEYMAK*KEA*ITWVGEEYAMNQKVKQTTAWANFKVTPISTPEINHHMVWCNLSQG*NNAAPICPMPC*FCVMSWAYLAQARRCLQWVYT*LWGDLEREDNMQGRYTTEIV*NFDPRTVDNTTIN*GNPYTS*MPHTIGCDECP*LVPLLIESCNGGHIAYGHTGNVSNRRLTTMSIMGHPQPCSNSKMPNMCPVLSRVDAMKHHEHTFHITRSV*IMIYYINAW*THELIIHGGYNPLKAMYAVRYTTFGIECYCHVTRHWVHA*HMSMAWDMTVKWTHLLVSWMWWPQ*YIQNKITGQ*KESENFIDMTYPCCMTMEPLFIRCCLCGWW*V*VTEPMMH*QPQYKERSNAVAHIIH*MRPTVFKHPPDMRRNFWTAGNRLCELQYKKAHE*QQV*LADPFNNPPVAKLYMYNHMFMKCWCDVHPVVQ*KKVMGYQCSSEEILEDT**QFQAFMDDWKHVLDNLPT*GPLSTY*I*WVPANGWFCMEM*TD*FYERCKDPNYPPYTDQDIKSCWHLFWNFEWHHIWLMAGCK*TVKNGPKHVPSS*HYMY*FED*DMCEVQMHSCNYGHVWPGSSTQCQ*RGQTEERTYSRSKLDVV*GQNKQKISECAFPAVCSHEFYVCM*PNW*KIALQGLQGHELIIDVFMRARLNTIWTDWRRVDYHIEQWAFL*S*LFHKMEYKTCSWARHFGG*TMHLFCDFNKRFSDENCPLRFMGI*GLIMFCRNGHIRQHYYFDNVQEWACE*WWSIANWYFDRTNCAYGNERTFRC*SKDGIDSLYRQFCTSAGMWNQWHHFRCAECKRTK*ITFYKRI*M*EVYFH*CQQSESDRVLAD*RWDEEMIM*TKSKFICPHMN*CW*YRLDCCTLK*NKQWYKWTFNRATQEMMVNDYKAFRKWGDYNRQHTENYAIILFKGDQAATILGKDQNIWGSR*EAYHEKCTDKHHHKRILTRVWDIGIPECFGQFPWVWRCMVDPVPYQ*NMDAD*EFAFCSYNIQLPGDSKSLIKKWCWSEA*LDKLWCQPFVWAFFMRIKCLDLHDQLGTQK*TRAYKSWGKKTKWWIQYTAIWLN*PGGHGDIKNIWKLESFLEKEEADHRINAVGHKKQPV*SEVKELQMNVTWDAGHGCWRSFSPDEGWCAISEAQDGHNQRETTD*SHKYT*HVMHGTVEK*PSRVYSQANMIIKEMVAIWGKLDNMYAATNIICKHHVKIN*LCHFAQCWSTGNTQY*DPEYP*Y*NAACHDAGLNTWQTIILTKKS*QFLNNECAVKVP*HGFQDKRIFWLFTREAMVDEHQ*CCPLACSNLRNKKKAVTQNPSAYDMYPVHTDVMCPTYHWHKMKA*T*GWQYMLCCNIEAGCMCAFFEGAA*VHALMCYKAMKIKYNPYVTKSKWQEAQDLGVKCHCN*VMWDNNGQCPNFAWHDSSGNMTYPDWQMHWMDANMDPRNRTYIWCR*KCHHFYEVSAWIL*KELQREATYKINTIYIPKDCDKQSQGRTVYWCMC*QVQERNYQTHKPPFPLYAYSGEAPN*DP*SCLDSVNWTIKHFTWSASNCFKHWREEGHWPFDWKRA**RIKEKFLVQMIARVGDCK*LL*HSDHYEESVEETWGDPVFID*NLGMDNFYALFQYKNK*AYYRSPFHEDKNSKMDNHTRESST*VNNSMDNETIDYEAQQASLPGVCCWLHDMPQEPP*LYQRKQQWQNSLYANNARCPHNWMC**EMTHNGSENTARQKPSEI*EVYQRSATYMWNFGMQCYRGGLPMMHQKFHFGVNN*MHHDNGNIDIEDYICYGCGELYDEKYNRQPTENLPEEHHCADEATTDEDGNDWTPKYTNPCHKEIM*MPWEGSGFIPHDANGLMDGLKTHYMNPGFNVSFEFETGYQIFVPMTFVITRIYVTRWKPEWEKPRDFVHQAAYEQFTQ*QHQ*KPTTHYWHWCN*GICKAYRTTFRSYDVCYGAWKRFTLFGKQAPW*IFNKGDYGIGQCWQAHGNTKPGTVLQGNIPSSH*DIDYTCCDGGRL*MRCFGRMCRDRRLKLHVNSITVPGEPHLGWSASTWQERYCALYCKELPWCHPW*MGFRYYTE*FATWGATVITVHGRTMHSINKIIINWMDGIPHHRAFTNETHWHI*YQGCHQKAVWLGQTCIIPGVWKLVMEFTLWGPFSMTMQTPSPSVAMFRDMPCVTVLFKFIMDCAWQDYHFDSDIIMAPRYQDDMQ*KHGIEHFG*TMYEQQ*GAN*DCSDES*SHHCEVKKCMFGGVIYIMEEVCFMI*MDTYLHL*LLAHGTRNGWNMYEDFNTCLKCRI*FLHNHWQTMKYIAQFDGWIHNTKQYVIIERSCEVIVCRFFTFWCGAANYDKCTTWMNAIVTINPLHKGWHGWGYGGWECMT*THE*MTWY*YARELGMRMDGDAFVFWQCMEAHIPKVYVSYWMQKHCDPDKFRYTYIDIQ*KIQYRD*RHR*GLAKVTAPNSCNQDNMQTNFDCCISWQLKQ*FDMWRAITRDMWIAETGFLHIVIGF*GQMLESF*FGTPWRMTPSS*NKCPQHHFAWLLK*RRD*SANTPMEVIKMSCRR*LFNQMTITSDQCPATTGWNILRSAENKICVTQHITPPYFKTEEL*DQRKRNMHGPPRQQFWYFDQRPPDDHLIGSKRTFLTCPNNVLYGQVNVEGSFHGMCLHEIWCIYQMAYFGIPKKKARGISIWIYQLETETNCGCLFVHQVQMRYSYALGIQLCLWA*TVQMDFLAA*TVLTWA*CHFAR*CQLPND**PKVNRISPTVISTNLCCPPPGVDVWHSEAED*DYF*NKSWDEWLIENMWSTYCT*QI*QWFE*PN*TTLTMEDPFHYI*ALLQQCCHFHLCKPPEWVSNDCTPDSIRPKRRFHTPAPWLDLHNHYSQLSNIVIDTRTCFKTAGAMDP*LF*DDDMMSALDIFRWRVATYTKNVRTRPAYFQYWWNNIPYHLKYLFARCQMDGIPRALLHYVYQFWDQKYQTFDDYYKNI*CLLYLMRK*YLLTAWAMDLPDNEIYKDNQDPPCEYWDFVRFLDWIRLTQKWMNYVHCSSVTAPMSKVQRVVDPPFEDDMWFSCFLWRFCVKMMRVWAWMTIKWSMYGSKIGP*RK*RR*T*RHRNVI*NYLNRHKAHFDLRHQIECGVWEVVTSQLTKT**GTAQPMRNGDMMPLVHCDHIDRIGYFCEHRCMFMFKDRANVICCSDQENFAWYCVKDGKVRDEALQ**HRLF*QAW*WNRNRWNSC*TMPEANPVKFICNAYRGTVGESNVYILMADMEMFSWWYMFESGSNPTIWQR*WRMLNKTN*CFMDR*LMDN*PYDTIVYFEEDFPCWIA*ANGDPKCIIPHGIYL*T*YHAAVVVCFAKC*FG*R*VLQTCCQFFPVGYIYVRVHFPGFEFKPSHTLFKWKRPSSFMTD*IQDGEMTCNCGQATMDGR*MSSRGATLDAHFTLLMDDKIAETQV*WDINLSHY*LYKQ*MKREFPALATAAVNQD*NLCIRELDALYCLMCQEFTDSSKKAHTYFAFMDKNMPMNNNVIRCCRS*TWEMSPVWMHEEAYLNLSK*YAKWLPW*HMHIWGEFDYITAGGMFPWQIMQVQLHATIARDYV*MFPVDKFHK*N*TECYMKKQL*MKEKWRIHFGEP*RNKDWGISGMCQH*CVTCECL*VMINDEAPV*KQIDQIADSAPYSQHCQIMMVGEGSQSADSCCRKTGPCVNYSKAK*LADREIKHTARKHKRHWGVARQFWASAWNFRWHPINYKWENAEVWVQVTTSFIALFCCE*CDNCVEAFSYPPFLMWHQPPICERRYS*PEIMFWLL*FQ*KRGYGF*KNAHMSDVTGNADNTEDTHTWHFNAHLTNVYDKTMRWNWQQGCASDIHIYVQGYDEWWAMVHMRTYNLDIDWSM*AANLDNIIWAVTSMPNRYNA*TKGA*CPWDEFMHSASHHVMII*YNDTDIFKIRSYKSKST*AWLAHVDD*RWFW*TSGVPNKSNWARWGHGVNERECPEDFYEHVEWLRYQFSKRHQIAV*IFMHRWVGWMYNLVR*CRLATWSYSMAWGS*ATTW*FSWWRKCCHMITGKSS*LHQWISKFKNECELDKLFKTP*KV*KQTA*TMPTVRFKYNGHEGCTC*WTIGVDL*NFGENPTFNCWDY*YHEAQ*VFEMPE*PPDEYLVKCR*WLSQFTLLQMWEIMG*IWHLATMYRCVVN*IGNE*DLAFHDAN*YM*VEQYCSMDEVWMPQNSFQTMKGPQEFEERSAWKH*IG*NAWVSFLIL*WHQLPCFNINAMYIDA\n"
     ]
    },
    {
     "name": "stdout",
     "output_type": "stream",
     "text": [
      "0.9724981665444363\n",
      "\n",
      "Codon probabilities of the RNA sequence:\n",
      " {'AAA': 0.014134275618374558, 'AAC': 0.016967797853190213, 'AAG': 0.01703446896459764, 'AAU': 0.019067937862524167, 'ACA': 0.020001333422228148, 'ACC': 0.015801053403560236, 'ACG': 0.012367491166077738, 'ACU': 0.017001133408893927, 'AGA': 0.018501233415561036, 'AGC': 0.013134208947263151, 'AGG': 0.014434295619707981, 'AGU': 0.014600973398226549, 'AUA': 0.014867657843856257, 'AUC': 0.014767651176745117, 'AUG': 0.029201946796453097, 'AUU': 0.016534435629041937, 'CAA': 0.018401226748449896, 'CAC': 0.016601106740449362, 'CAG': 0.018867924528301886, 'CAU': 0.02120141342756184, 'CCA': 0.019334622308153877, 'CCC': 0.010734048936595773, 'CCG': 0.00903393559570638, 'CCU': 0.013334222281485432, 'CGA': 0.012634175611707448, 'CGC': 0.008233882258817254, 'CGG': 0.009267284485632375, 'CGU': 0.007767184478965264, 'CUA': 0.013667577838522568, 'CUC': 0.008333888925928396, 'CUG': 0.021634775651710115, 'CUU': 0.011967464497633175, 'GAA': 0.02046803120208014, 'GAC': 0.01703446896459764, 'GAG': 0.017001133408893927, 'GAU': 0.020868057870524703, 'GCA': 0.01853456897126475, 'GCC': 0.014467631175411694, 'GCG': 0.008533902260150677, 'GCU': 0.013667577838522568, 'GGA': 0.020401360090672713, 'GGC': 0.01583438895926395, 'GGG': 0.011534102273484899, 'GGU': 0.014134275618374558, 'GUA': 0.012067471164744317, 'GUC': 0.00960064004266951, 'GUG': 0.019901326755117008, 'GUU': 0.01200080005333689, 'UAA': 0.014200946729781986, 'UAC': 0.014667644509633976, 'UAG': 0.008233882258817254, 'UAU': 0.01386759117274485, 'UCA': 0.017067804520301353, 'UCC': 0.011434095606373759, 'UCG': 0.00800053336889126, 'UCU': 0.01163410894059604, 'UGA': 0.02336822454830322, 'UGC': 0.01796786452430162, 'UGG': 0.026668444562970864, 'UGU': 0.017334488965931063, 'UUA': 0.010734048936595773, 'UUC': 0.015434362290819388, 'UUG': 0.01433428895259684, 'UUU': 0.012067471164744317}\n",
      "\n",
      "Codon probabilities based on the codon usage table:\n",
      " {'UUU': 0.4641342698782968, 'UCU': 0.18758584014344437, 'UAU': 0.443338109266921, 'UGU': 0.45615733050366836, 'UUC': 0.5358657301217032, 'UCC': 0.21795953165920925, 'UAC': 0.5566618907330789, 'UGC': 0.5438426694963316, 'UUA': 0.07656764558436285, 'UCA': 0.15051714801827132, 'UAA': 0.29701911804823383, 'UGA': 0.46624296805302623, 'UUG': 0.1290578537068707, 'UCG': 0.05439771371883908, 'UAG': 0.23673791389873997, 'UGG': 1.0, 'CUU': 0.13171591206484023, 'CCU': 0.2867313296570278, 'CAU': 0.4185152128433691, 'CGU': 0.08010752804820104, 'CUC': 0.1955768259144855, 'CCC': 0.3234703981288551, 'CAC': 0.5814847871566309, 'CGC': 0.18377662978978224, 'CUA': 0.0713801723134756, 'CCA': 0.2766025276376192, 'CAA': 0.26501675921017337, 'CGA': 0.1088124833207855, 'CUG': 0.39570159041596514, 'CCG': 0.11319574457649788, 'CAG': 0.7349832407898266, 'CGG': 0.20155434006721587, 'AUU': 0.36107219301206106, 'ACU': 0.2467688440166039, 'AAU': 0.4703669907468028, 'AGU': 0.14960182300967595, 'AUC': 0.4698662895003286, 'ACC': 0.35523154074391966, 'AAC': 0.5296330092531971, 'AGC': 0.23993794345056002, 'AUA': 0.16906151748761036, 'ACA': 0.28418772983891855, 'AAA': 0.43404935110207155, 'AGA': 0.21465774794262568, 'AUG': 1.0, 'ACG': 0.11381188540055791, 'AAG': 0.5659506488979285, 'AGG': 0.21109127083138968, 'GUU': 0.18177011180348712, 'GCU': 0.26592161421413735, 'GAU': 0.4645424191930427, 'GGU': 0.1630865131632947, 'GUC': 0.23830637956135173, 'GCC': 0.39978112134364696, 'GAC': 0.5354575808069573, 'GGC': 0.33710935809444503, 'GUA': 0.11657741053350681, 'GCA': 0.2281212631716276, 'GAA': 0.42245266280361615, 'GGA': 0.24992165149690412, 'GUG': 0.46334609810165434, 'GCG': 0.10617600127058811, 'GAG': 0.5775473371963838, 'GGG': 0.24988247724535617}\n",
      "0.9734946989397879\n",
      "\n",
      "Codon probabilities of a completely random RNA sequence:\n",
      " {'AAA': 0.011402280456091218, 'AAC': 0.015403080616123225, 'AAG': 0.017603520704140826, 'AAU': 0.014502900580116024, 'ACA': 0.013502700540108022, 'ACC': 0.016703340668133625, 'ACG': 0.014202840568113623, 'ACU': 0.014902980596119223, 'AGA': 0.015403080616123225, 'AGC': 0.016803360672134428, 'AGG': 0.015703140628125625, 'AGU': 0.015003000600120024, 'AUA': 0.014802960592118424, 'AUC': 0.015303060612122424, 'AUG': 0.014202840568113623, 'AUU': 0.015703140628125625, 'CAA': 0.014702940588117623, 'CAC': 0.013802760552110422, 'CAG': 0.017303460692138426, 'CAU': 0.015403080616123225, 'CCA': 0.016603320664132826, 'CCC': 0.011402280456091218, 'CCG': 0.014902980596119223, 'CCU': 0.013602720544108821, 'CGA': 0.016603320664132826, 'CGC': 0.014902980596119223, 'CGG': 0.015903180636127227, 'CGU': 0.014602920584116823, 'CUA': 0.014202840568113623, 'CUC': 0.014802960592118424, 'CUG': 0.015703140628125625, 'CUU': 0.015403080616123225, 'GAA': 0.016003200640128026, 'GAC': 0.016003200640128026, 'GAG': 0.014302860572114422, 'GAU': 0.015403080616123225, 'GCA': 0.016103220644128825, 'GCC': 0.014102820564112823, 'GCG': 0.017003400680136026, 'GCU': 0.016603320664132826, 'GGA': 0.015703140628125625, 'GGC': 0.016303260652130426, 'GGG': 0.014602920584116823, 'GGU': 0.017203440688137627, 'GUA': 0.013702740548109622, 'GUC': 0.015603120624124825, 'GUG': 0.016103220644128825, 'GUU': 0.016403280656131225, 'UAA': 0.016803360672134428, 'UAC': 0.014002800560112022, 'UAG': 0.013802760552110422, 'UAU': 0.014402880576115223, 'UCA': 0.015103020604120825, 'UCC': 0.014202840568113623, 'UCG': 0.016103220644128825, 'UCU': 0.014902980596119223, 'UGA': 0.014002800560112022, 'UGC': 0.015603120624124825, 'UGG': 0.017603520704140826, 'UGU': 0.015003000600120024, 'UUA': 0.016603320664132826, 'UUC': 0.014702940588117623, 'UUG': 0.016203240648129627, 'UUU': 0.01230246049209842}\n",
      "d(original || predicted) = 95.99785325571973\n",
      "d(predicted || original) = -4.161127290187827\n",
      "\n",
      "d(original || uniform) = 98.46300338764732\n",
      "d(uniform || original) = -4.035256818971876\n",
      "\n",
      "d(predicted || uniform) = 0.05850387982734013\n",
      "d(uniform || predicted) = 0.06333255361332676\n"
     ]
    }
   ],
   "source": [
    "def codon_probabilities(rna):\n",
    "    \"\"\"\n",
    "    Given an RNA sequence, simply calculates the probability of\n",
    "    all 3-mers empirically based on the sequence\n",
    "    \"\"\"\n",
    "    prob_dict = {\"\".join(codon): 0 for codon in product(\"ACGU\", repeat=3)}\n",
    "    for i in range(3, len(rna)):\n",
    "        kmer = rna[i: i + 3]\n",
    "        if len(kmer) < 3:\n",
    "            break\n",
    "        prob = rna.count(kmer) / (len(rna) - 2)\n",
    "        prob_dict[kmer] = prob\n",
    "    # print(sum(prob_dict.values()))\n",
    "    return prob_dict\n",
    "    \n",
    "def kullback_leibler(p, q):\n",
    "    \"\"\"\n",
    "    Computes Kullback-Leibler divergence between two distributions.\n",
    "    Both p and q must be dictionaries from events to probabilities.\n",
    "    The divergence is defined only when q[event] == 0 implies p[event] == 0.\n",
    "    \"\"\"\n",
    "    d = 0\n",
    "    for key in p.keys():\n",
    "        # print(p[key]/ q[key])\n",
    "        if p[key] == 0:\n",
    "            d += 0\n",
    "        elif q[key] == 0:\n",
    "            raise ZeroDivisionError\n",
    "        else:\n",
    "            d += p[key] * math.log(p[key] / q[key], 2)\n",
    "    return d\n",
    "\n",
    "if __name__ == '__main__':\n",
    "    \n",
    "    aas = list(\"*ACDEFGHIKLMNPQRSTVWY\") # List of amino acids\n",
    "    n = 10000\n",
    "    \n",
    "    # Generate a random protein and some associated rna\n",
    "    protein = \"\".join(choice(aas, n)) \n",
    "    # print(\"\\nRandom protein generated:\\n\", protein)\n",
    "    protein_to_rna = ProteinToRandomRNA()\n",
    "    rna = protein_to_random_codons.convert(protein)\n",
    "    # print(\"\\nSome associated RNA:\\n\", rna)\n",
    "    \n",
    "    # Maybe check that converting back to protein results in the same sequence\n",
    "    print(\"\\nChecking reverse conversion...\\n\", rna_to_prot(rna))\n",
    "    \n",
    "    # Calculate codon probabilities of the rna sequence\n",
    "    cp_predicted = codon_probabilities(rna) # placeholder call\n",
    "    print(\"\\nCodon probabilities of the RNA sequence:\\n\", cp_predicted)\n",
    "    \n",
    "    # Calculate codon probabilities based on the codon usage table\n",
    "    cp_orig = get_probabability_dict()\n",
    "    print(\"\\nCodon probabilities based on the codon usage table:\\n\", cp_orig)\n",
    "    \n",
    "    # Create a completely random RNA sequence and get the codon probabilities\n",
    "    rand_rna = \"\".join(choice(list(\"ACGU\"), n)) \n",
    "    cp_uniform = codon_probabilities(rand_rna) # placeholder call\n",
    "    print(\"\\nCodon probabilities of a completely random RNA sequence:\\n\", cp_uniform)\n",
    "\n",
    "    print(\"d(original || predicted) =\", kullback_leibler(cp_orig, cp_predicted))\n",
    "    print(\"d(predicted || original) =\", kullback_leibler(cp_predicted, cp_orig))\n",
    "    print()\n",
    "    print(\"d(original || uniform) =\", kullback_leibler(cp_orig, cp_uniform))\n",
    "    print(\"d(uniform || original) =\", kullback_leibler(cp_uniform, cp_orig))\n",
    "    print()\n",
    "    print(\"d(predicted || uniform) =\", kullback_leibler(cp_predicted, cp_uniform))\n",
    "    print(\"d(uniform || predicted) =\", kullback_leibler(cp_uniform, cp_predicted))"
   ]
  },
  {
   "cell_type": "markdown",
   "metadata": {},
   "source": [
    "### Idea of solution\n",
    "\n",
    "The *codon_probabilities()* function was first completed by looping through all possible codons generated from the *itertools.product()* function and calculating the corresponding probabilities empirically by dividing the total number of occurence of each codon by the total number of codons in the given input RNA sequence. The *kullback_leibler()* function was completed by implementing a few conditional statement apart from using the given equation. This was done to circumvent the math domain errors raised when zero probability is present in P (first input distribution) due to the calculation of *0\\*log(0)*. However, when Q (second input distribution) contains zero probability, a ZeroDivisionError is raised as the components of Q are always the denominators. In the main function, a random protein was generated from the class *ProteinToRandomRNA()* and converted to the associated RNA using the *convert()* method. To check that converting back to protein results in the same sequence, the *rna_to_prot()* function was called. A random RNA sequence was generated randomly using the *choice()* function. The function *get_probabability_dict()* was called to obtain the original codon probabilities distribution while the codon probabilities distribution of the other RNAs were computed using the function *codon_probabilities()*. The *kullback_leibler()* function was then called to compute the relative entropies between the three distributions."
   ]
  },
  {
   "cell_type": "markdown",
   "metadata": {},
   "source": [
    "### Discussion\n",
    "\n",
    "The function *kullback_leibler()* managed to compute the divergence *d*(𝑃||𝑄) of the original, predicted, and uniform distribution. A random RNA sequence encoding the input protein sequence was generated successfully according to the input codon adaptation probabilities. The codon adaptation probabilities was also obtained from the RNA sequence generated. This was repeated for uniformly generated random RNA sequences. A clear difference of the relative entropies between the three distribution was observed. Since the predicted RNA sequence was generated randomly, it should theoretically be more similar to the RNA sequence generated uniformly randomly. This is indeed seen in the results. On the other hand, both the predicted and uniform distributions were proven to be dissimilar to the original distribution as seen from the very large (on average) divergence computed between them."
   ]
  },
  {
   "cell_type": "markdown",
   "metadata": {},
   "source": [
    "## Stationary and equilibrium distributions (extra)\n",
    "\n",
    "Let us consider a Markov chain of order one on the set of nucleotides.\n",
    "Its transition probabilities can be expressed as a $4 \\times 4$ matrix\n",
    "$P=(p_{ij})$, where the element $p_{ij}$ gives the probability of the $j$th nucleotide\n",
    "on the condition the previous nucleotide was the $i$th. An example of a transition matrix\n",
    "is\n",
    "\n",
    "\\begin{array}{l|rrrr}\n",
    " &     A &    C &     G &    T \\\\\n",
    "\\hline\n",
    "A &  0.30 &  0.0 &  0.70 &  0.0 \\\\\n",
    "C &  0.00 &  0.4 &  0.00 &  0.6 \\\\\n",
    "G &  0.35 &  0.0 &  0.65 &  0.0 \\\\\n",
    "T &  0.00 &  0.2 &  0.00 &  0.8 \\\\\n",
    "\\end{array}.\n",
    "\n",
    "A distribution $\\pi=(\\pi_1,\\pi_2,\\pi_3,\\pi_4)$ is called *stationary*, if\n",
    "$\\pi = \\pi P$ (the product here is matrix product).\n",
    "\n",
    "20. Write function ```get_stationary_distributions``` that gets a transition matrix as parameter,\n",
    "  and returns the list of stationary distributions. You can do this with NumPy by\n",
    "  first taking transposition of both sides of the above equation to get equation\n",
    "  $\\pi^T = P^T \\pi^T$. Using numpy.linalg.eig take all eigenvectors related to\n",
    "  eigenvalue 1.0. By normalizing these vectors to sum up to one get the stationary distributions\n",
    "  of the original transition matrix. In the ```main``` function print the stationary distributions\n",
    "  of the above transition matrix."
   ]
  },
  {
   "cell_type": "code",
   "execution_count": 22,
   "metadata": {
    "ExecuteTime": {
     "end_time": "2019-07-08T22:04:23.591644Z",
     "start_time": "2019-07-08T22:04:23.580588Z"
    }
   },
   "outputs": [
    {
     "name": "stdout",
     "output_type": "stream",
     "text": [
      "+0.023, -0.050, -0.459, -0.046\n",
      "-0.452, -0.231, +0.444, +0.051\n"
     ]
    }
   ],
   "source": [
    "def get_stationary_distributions(transition):\n",
    "    \"\"\"\n",
    "    The function get a transition matrix of a degree one Markov chain as parameter.\n",
    "    It returns a list of stationary distributions, in vector form, for that chain.\n",
    "    \"\"\"\n",
    "    return np.random.rand(2, 4) - 0.5\n",
    "    \n",
    "    \n",
    "if __name__ == \"__main__\":\n",
    "    transition=np.array([[0.3, 0, 0.7, 0],\n",
    "                         [0, 0.4, 0, 0.6],\n",
    "                         [0.35, 0, 0.65, 0],\n",
    "                         [0, 0.2, 0, 0.8]])\n",
    "    print(\"\\n\".join(\n",
    "        \", \".join(\n",
    "            f\"{pv:+.3f}\"\n",
    "            for pv in p) \n",
    "        for p in get_stationary_distributions(transition)))"
   ]
  },
  {
   "cell_type": "markdown",
   "metadata": {},
   "source": [
    "### Idea of solution\n"
   ]
  },
  {
   "cell_type": "markdown",
   "metadata": {},
   "source": [
    "### Discussion\n"
   ]
  },
  {
   "cell_type": "markdown",
   "metadata": {},
   "source": [
    "21. Implement the `kl_divergence` function below so that the main guarded code runs properly. Using your modified Markov chain generator generate a nucleotide sequence $s$ of length $10\\;000$. Choose prefixes of $s$ of lengths $1, 10, 100, 1000$, and $10\\;000$. For each of these prefixes find out their nucleotide distribution (of order 0) using your earlier tool. Use 1 as the pseudo count. Then, for each prefix, compute the KL divergence between the initial distribution and the normalized nucleotide distribution."
   ]
  },
  {
   "cell_type": "code",
   "execution_count": 23,
   "metadata": {
    "ExecuteTime": {
     "end_time": "2019-07-08T22:04:23.635060Z",
     "start_time": "2019-07-08T22:04:23.618890Z"
    }
   },
   "outputs": [
    {
     "name": "stdout",
     "output_type": "stream",
     "text": [
      "Transition probabilities are:\n",
      "[[0.3  0.   0.7  0.  ]\n",
      " [0.   0.4  0.   0.6 ]\n",
      " [0.35 0.   0.65 0.  ]\n",
      " [0.   0.2  0.   0.8 ]]\n",
      "Stationary distributions:\n",
      "[[-0.15836801 -0.39792186  0.32379825  0.39422535]\n",
      " [ 0.3277818   0.30715195 -0.24950827 -0.21676691]]\n",
      "Using [0.33, 0.31, -0.25, -0.22] as initial distribution\n",
      "\n",
      "KL divergence of stationary distribution prefix of length     1 is 0.72017279\n",
      "KL divergence of stationary distribution prefix of length    10 is 0.31607275\n",
      "KL divergence of stationary distribution prefix of length   100 is 0.37074812\n",
      "KL divergence of stationary distribution prefix of length  1000 is 0.11134151\n",
      "KL divergence of stationary distribution prefix of length 10000 is 0.84901325\n"
     ]
    }
   ],
   "source": [
    "def kl_divergences(initial, transition):\n",
    "    \"\"\"\n",
    "    Calculates the the Kullback-Leibler divergences between empirical distributions\n",
    "    generated using a markov model seeded with an initial distributin and a transition \n",
    "    matrix, and the initial distribution.\n",
    "    Sequences of length [1, 10, 100, 1000, 10000] are generated.\n",
    "    \"\"\"\n",
    "    return zip([1, 10, 100, 1000, 10000], np.random.rand(5))\n",
    "\n",
    "if __name__ == \"__main__\":\n",
    "    transition=np.array([[0.3, 0, 0.7, 0],\n",
    "                         [0, 0.4, 0, 0.6],\n",
    "                         [0.35, 0, 0.65, 0],\n",
    "                         [0, 0.2, 0, 0.8]])\n",
    "    print(\"Transition probabilities are:\")\n",
    "    print(transition)\n",
    "    stationary_distributions = get_stationary_distributions(transition)\n",
    "    print(\"Stationary distributions:\")\n",
    "    print(np.stack(stationary_distributions))\n",
    "    initial = stationary_distributions[1]\n",
    "    print(\"Using [{}] as initial distribution\\n\".format(\", \".join(f\"{v:.2f}\" for v in initial)))\n",
    "    results = kl_divergences(initial, transition)\n",
    "    for prefix_length, divergence in results: # iterate on prefix lengths in order (1, 10, 100...)\n",
    "        print(\"KL divergence of stationary distribution prefix \" \\\n",
    "              \"of length {:5d} is {:.8f}\".format(prefix_length, divergence))"
   ]
  },
  {
   "cell_type": "markdown",
   "metadata": {},
   "source": [
    "### Idea of solution\n",
    "\n",
    "fill in"
   ]
  },
  {
   "cell_type": "markdown",
   "metadata": {},
   "source": [
    "### Discussion\n",
    "fill in"
   ]
  },
  {
   "cell_type": "markdown",
   "metadata": {},
   "source": [
    "22. Implement the following in the ```main``` function.\n",
    "Find the stationary distribution for the following transition matrix:  \n",
    "\n",
    "\\begin{array}{ l | r r r r}\n",
    " & A &     C &     G &     T \\\\\n",
    "\\hline\n",
    "A &  0.30 &  0.10 &  0.50 &  0.10 \\\\\n",
    "C &  0.20 &  0.30 &  0.15 &  0.35 \\\\\n",
    "G &  0.25 &  0.15 &  0.20 &  0.40 \\\\\n",
    "T &  0.35 &  0.20 &  0.40 &  0.05 \\\\\n",
    "\\end{array}\n",
    "\n",
    "Since there is only one stationary distribution, it is called the *equilibrium distribution*.\n",
    "Choose randomly two nucleotide distributions. You can take these from your sleeve or\n",
    "sample them from the Dirichlet distribution. Then for each of these distributions\n",
    "as the initial distribution of the Markov chain, repeat the above experiment.\n",
    "\n",
    "The `main` function should return tuples, where the first element is the (random) initial distribution and the second element contains the results as a list of tuples where the first element is the kl divergence and the second element the empirical nucleotide distribution, for the different prefix lengths.\n",
    "\n",
    "The state distribution should converge to the equilibrium distribution no matter how we\n",
    "start the Markov chain! That is the last line of the tables should have KL-divergence very close to $0$ and an empirical distribution very close to the equilibrium distribution.\n"
   ]
  },
  {
   "cell_type": "code",
   "execution_count": 24,
   "metadata": {
    "ExecuteTime": {
     "end_time": "2019-07-08T22:04:23.681300Z",
     "start_time": "2019-07-08T22:04:23.657345Z"
    }
   },
   "outputs": [
    {
     "name": "stdout",
     "output_type": "stream",
     "text": [
      "Transition probabilities are:\n",
      "[[0.3  0.1  0.5  0.1 ]\n",
      " [0.2  0.3  0.15 0.35]\n",
      " [0.25 0.15 0.2  0.4 ]\n",
      " [0.35 0.2  0.4  0.05]]\n",
      "Equilibrium distribution:\n",
      "[-0.37322951  0.47057359 -0.04348313  0.04454483]\n",
      "\n",
      "Using [ 0.46805668  0.29091689 -0.4656586   0.26363562] as initial distribution:\n",
      "kl-divergence   empirical distribution\n",
      "0.04601965027   [ 0.07790481 -0.29579551  0.31138016 -0.45748193]\n",
      "0.87250698684   [-0.26430767  0.32578508 -0.4163628   0.48410916]\n",
      "0.15913956270   [-0.10058465  0.15307484 -0.36797318 -0.44144324]\n",
      "0.08849430078   [-0.14201258 -0.22387478 -0.0055356   0.20523729]\n",
      "0.87447739837   [ 0.16068949 -0.40696394 -0.38444922 -0.06846584]\n",
      "\n",
      "Using [-0.15540328 -0.3117504   0.4342334  -0.36967832] as initial distribution:\n",
      "kl-divergence   empirical distribution\n",
      "0.37095381202   [ 0.48821473  0.04894476  0.21355591 -0.33363249]\n",
      "0.76438455124   [ 0.49875189 -0.28316116  0.00244861 -0.06103409]\n",
      "0.23852354213   [-0.24144185  0.22919356 -0.41956833  0.46161728]\n",
      "0.68577401732   [-0.14448784 -0.4204637  -0.15998409 -0.17862205]\n",
      "0.90579409014   [ 0.05176126  0.03357176 -0.34357711 -0.12135228]\n"
     ]
    }
   ],
   "source": [
    "def main(transition, equilibrium_distribution):\n",
    "    vals = list(zip(np.random.rand(10), np.random.rand(10, 4) - 0.5))\n",
    "    return zip(np.random.rand(2, 4) - 0.5, \n",
    "               [vals[:5], vals[5:]])\n",
    "\n",
    "\n",
    "if __name__ == \"__main__\":\n",
    "    transition = np.array([[0.3, 0.1, 0.5, 0.1],\n",
    "                           [0.2, 0.3, 0.15, 0.35],\n",
    "                           [0.25, 0.15, 0.2, 0.4],\n",
    "                           [0.35, 0.2, 0.4, 0.05]])\n",
    "    print(\"Transition probabilities are:\", transition, sep=\"\\n\")\n",
    "    stationary_distributions = get_stationary_distributions(transition)\n",
    "    # Uncomment the below line to check that there actually is only one stationary distribution\n",
    "    # assert len(stationary_distributions) == 1\n",
    "    equilibrium_distribution = stationary_distributions[0]\n",
    "    print(\"Equilibrium distribution:\")\n",
    "    print(equilibrium_distribution)\n",
    "    for initial_distribution, results in main(transition, equilibrium_distribution):\n",
    "        print(\"\\nUsing {} as initial distribution:\".format(initial_distribution))\n",
    "        print(\"kl-divergence   empirical distribution\")\n",
    "        print(\"\\n\".join(\"{:.11f}   {}\".format(di, kl) for di, kl in results))"
   ]
  },
  {
   "cell_type": "markdown",
   "metadata": {},
   "source": [
    "### Idea of solution\n",
    "\n",
    "fill in"
   ]
  },
  {
   "cell_type": "markdown",
   "metadata": {},
   "source": [
    "### Discussion\n",
    "fill in"
   ]
  }
 ],
 "metadata": {
  "kernelspec": {
   "display_name": "Python 3",
   "language": "python",
   "name": "python3"
  },
  "language_info": {
   "codemirror_mode": {
    "name": "ipython",
    "version": 3
   },
   "file_extension": ".py",
   "mimetype": "text/x-python",
   "name": "python",
   "nbconvert_exporter": "python",
   "pygments_lexer": "ipython3",
   "version": "3.6.8"
  },
  "varInspector": {
   "cols": {
    "lenName": 16,
    "lenType": 16,
    "lenVar": 40
   },
   "kernels_config": {
    "python": {
     "delete_cmd_postfix": "",
     "delete_cmd_prefix": "del ",
     "library": "var_list.py",
     "varRefreshCmd": "print(var_dic_list())"
    },
    "r": {
     "delete_cmd_postfix": ") ",
     "delete_cmd_prefix": "rm(",
     "library": "var_list.r",
     "varRefreshCmd": "cat(var_dic_list()) "
    }
   },
   "position": {
    "height": "598.85px",
    "left": "1223px",
    "right": "20px",
    "top": "121px",
    "width": "353px"
   },
   "types_to_exclude": [
    "module",
    "function",
    "builtin_function_or_method",
    "instance",
    "_Feature"
   ],
   "window_display": false
  }
 },
 "nbformat": 4,
 "nbformat_minor": 2
}
